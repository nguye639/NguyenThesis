{
 "cells": [
  {
   "cell_type": "code",
   "execution_count": 18,
   "metadata": {},
   "outputs": [],
   "source": [
    "import numpy as np\n",
    "import matplotlib.pyplot as plt\n",
    "import networkx as nx\n",
    "import pandas as pd\n",
    "import sklearn\n",
    "import re\n",
    "from scipy.spatial.distance import jaccard\n",
    "from sklearn.cluster import SpectralClustering as cluster\n",
    "from sklearn.preprocessing import StandardScaler\n",
    "from sklearn.cluster import DBSCAN\n",
    "from sklearn.feature_extraction.text import TfidfVectorizer\n",
    "from nltk.corpus import stopwords\n",
    "import nltk\n",
    "from nltk.tokenize import word_tokenize"
   ]
  },
  {
   "cell_type": "code",
   "execution_count": 19,
   "metadata": {},
   "outputs": [],
   "source": [
    "def wordCount(word, words):\n",
    "    #add one to never return 0\n",
    "    return (list(words).count(word))"
   ]
  },
  {
   "cell_type": "code",
   "execution_count": 20,
   "metadata": {},
   "outputs": [],
   "source": [
    "def wordImportance(messages):\n",
    "    remove = set(stopwords.words('english'))\n",
    "    tfIdfVectorizer=TfidfVectorizer(use_idf=True, stop_words = remove)\n",
    "    tfIdf = tfIdfVectorizer.fit_transform(messages)\n",
    "    df = pd.DataFrame(tfIdf[0].T.todense(), index=tfIdfVectorizer.get_feature_names(), columns=[\"TF-IDF\"])\n",
    "    df = df.sort_values('TF-IDF', ascending=False)\n",
    "    return df"
   ]
  },
  {
   "cell_type": "code",
   "execution_count": 21,
   "metadata": {},
   "outputs": [],
   "source": [
    "def jaccard_similarity(A, B):\n",
    "    #Find intersection of two sets\n",
    "    nominator = A.intersection(B)\n",
    "\n",
    "    #Find union of two sets\n",
    "    denominator = A.union(B)\n",
    "\n",
    "    #Take the ratio of sizes\n",
    "    similarity = len(nominator)/len(denominator)\n",
    "    \n",
    "    return similarity\n",
    "\n",
    "def getDistanceMatrix(thread):\n",
    "    matrix = []\n",
    "    for i in range(0,len(thread)):\n",
    "        row = []\n",
    "        for j in range(0,len(thread)):\n",
    "            distance = jaccard_similarity(set(thread[i]),set(thread[j]))\n",
    "            row.append(distance)\n",
    "        matrix.append(row)\n",
    "    return matrix"
   ]
  },
  {
   "cell_type": "code",
   "execution_count": 22,
   "metadata": {},
   "outputs": [],
   "source": [
    "def is_ascii(s):\n",
    "    return all(ord(c) < 128 for c in s)\n",
    "\n",
    "def cleanData(messages):\n",
    "    for i in range(0,len(messages)):\n",
    "        try:\n",
    "            filtered = re.sub(r'[\\(, \\)]', ' ', messages.iloc[i])\n",
    "            filtered = re.sub(r'[\\!]', '', filtered)\n",
    "            filtered = re.sub(r'[^\\w\\s\\!]', '', filtered)\n",
    "            messages.iloc[i] = filtered\n",
    "        except:\n",
    "            messages.iloc[i] = \"\"\n",
    "        \n",
    "        if is_ascii(messages.iloc[i]) == False:\n",
    "             messages.iloc[i] = \"\"\n",
    "        messages.iloc[i] = messages.iloc[i].split(\" \")\n",
    "        \n",
    "    return messages"
   ]
  },
  {
   "cell_type": "markdown",
   "metadata": {},
   "source": [
    "# Load and Clean Data"
   ]
  },
  {
   "cell_type": "code",
   "execution_count": 23,
   "metadata": {},
   "outputs": [],
   "source": [
    "#Load Data\n",
    "data = pd.read_csv(\"Ansar1Clean.csv\", index_col=0)"
   ]
  },
  {
   "cell_type": "code",
   "execution_count": 24,
   "metadata": {},
   "outputs": [
    {
     "data": {
      "text/plain": [
       "[1197, 813, 1525, 3531, 4444, 1893, 2140, 11207, 13591, 15756]"
      ]
     },
     "execution_count": 24,
     "metadata": {},
     "output_type": "execute_result"
    }
   ],
   "source": [
    "#Get thread\n",
    "threads = data[\"ThreadID\"].unique()\n",
    "\n",
    "longThreads = []\n",
    "for i in range(0,len(threads)):\n",
    "    thread = data[data[\"ThreadID\"]== threads[i]]\n",
    "    if len(thread) > 50:\n",
    "        longThreads.append(threads[i])\n",
    "longThreads"
   ]
  },
  {
   "cell_type": "code",
   "execution_count": 35,
   "metadata": {},
   "outputs": [
    {
     "data": {
      "text/plain": [
       "0      [Iraq, Office, of, the, Assistant, Secretary, ...\n",
       "1      [Afghanistan, 042309, burnleyexpress, Foulridg...\n",
       "2      [AsSalaamu, alaikum, Yet, another, Crusader, d...\n",
       "3      [Afghanistan, defense, news, 042409, theglobea...\n",
       "4      [Iraq, Defense, Link, 042509, MNF, MNDN, Soldi...\n",
       "                             ...                        \n",
       "202    [Iraq, 041309, Reuters, Four, US, soldiers, wo...\n",
       "203    [Iraq, Office, of, the, Assistant, Secretary, ...\n",
       "204    [Iraq, Office, of, the, Assistant, Secretary, ...\n",
       "205    [IraqAfghanistan, , Allah, Akbar, 175, killed,...\n",
       "206    [Iraq, Office, of, the, Assistant, Secretary, ...\n",
       "Name: Message, Length: 207, dtype: object"
      ]
     },
     "execution_count": 35,
     "metadata": {},
     "output_type": "execute_result"
    }
   ],
   "source": [
    "\n",
    "thread = data[data[\"ThreadID\"]== longThreads[0]]\n",
    "\n",
    "thread = thread.reset_index(drop = True)\n",
    "\n",
    "#get all messages\n",
    "messages = thread[\"Message\"].copy()\n",
    "\n",
    "#clean data\n",
    "clean = cleanData(messages)\n",
    "clean"
   ]
  },
  {
   "cell_type": "markdown",
   "metadata": {},
   "source": [
    "# Cluster Data"
   ]
  },
  {
   "cell_type": "code",
   "execution_count": 36,
   "metadata": {},
   "outputs": [],
   "source": [
    "matrix = getDistanceMatrix(clean.to_numpy())"
   ]
  },
  {
   "cell_type": "code",
   "execution_count": 37,
   "metadata": {},
   "outputs": [
    {
     "data": {
      "image/png": "[encoded data removed]",
      "text/plain": [
       "<Figure size 864x432 with 1 Axes>"
      ]
     },
     "metadata": {},
     "output_type": "display_data"
    }
   ],
   "source": [
    "dt = [('len', float)]\n",
    "A = np.array(matrix)\n",
    "A = A.view(dt)\n",
    "\n",
    "G = nx.from_numpy_matrix(A)\n",
    "\n",
    "plt.figure(figsize = (12,6))\n",
    "pos = nx.drawing.nx_agraph.graphviz_layout(G, prog='neato')\n",
    "G.remove_edges_from(list(G.edges()))\n",
    "G = nx.drawing.nx_pylab.draw_networkx(G,pos=pos,node_size = 100,alpha = 1,with_labels=False)"
   ]
  },
  {
   "cell_type": "markdown",
   "metadata": {},
   "source": [
    "# Analysis"
   ]
  },
  {
   "cell_type": "code",
   "execution_count": 38,
   "metadata": {},
   "outputs": [],
   "source": [
    "coords = np.array(list(pos.values()))\n",
    "x = coords.T[0]\n",
    "y = coords.T[1]"
   ]
  },
  {
   "cell_type": "code",
   "execution_count": 39,
   "metadata": {},
   "outputs": [],
   "source": [
    "scaler = StandardScaler()\n",
    "scaler.fit(coords)\n",
    "normCoords = scaler.transform(coords)"
   ]
  },
  {
   "cell_type": "code",
   "execution_count": 40,
   "metadata": {},
   "outputs": [
    {
     "data": {
      "text/plain": [
       "<matplotlib.collections.PathCollection at 0x7fcad890af70>"
      ]
     },
     "execution_count": 40,
     "metadata": {},
     "output_type": "execute_result"
    },
    {
     "data": {
      "image/png": "[encoded data removed]",
      "text/plain": [
       "<Figure size 432x432 with 1 Axes>"
      ]
     },
     "metadata": {
      "needs_background": "light"
     },
     "output_type": "display_data"
    }
   ],
   "source": [
    "clusters = DBSCAN(eps=.15, min_samples=5).fit(normCoords)\n",
    "plt.figure(figsize = (6,6))\n",
    "plt.scatter(x,y, c= clusters.labels_)"
   ]
  },
  {
   "cell_type": "code",
   "execution_count": 41,
   "metadata": {},
   "outputs": [
    {
     "data": {
      "text/plain": [
       "44     Afghanistan: 06/08/09 NDCF: Canadian soldier k...\n",
       "94     Afghanistan defense News 07/06/09 : DoD Identi...\n",
       "112    Afghanistan defense News 07/17/09 MoD: Soldier...\n",
       "116    61 Soldiers Died In Iraq And Afghanistan This ...\n",
       "120    Jazakallahu khair my brother Acer007, keep upd...\n",
       "147    Afghanistan Defense News 08/17/09 (Reuters) - ...\n",
       "155                        Allahu Akbar. 21 sent to hell\n",
       "160    Afghanistan Defense News Two British soldiers ...\n",
       "162    Afghanistan Defense News Warsaw, Sep 5 (DPA) O...\n",
       "165    Iraq Defense News The U.S. military says four ...\n",
       "166                  Allahu Akbar!!! all praise to allah\n",
       "171    Iraq Defense News Blackhawk crash kills US ser...\n",
       "175    Afghanistan Defense News A suicide bomber ramm...\n",
       "203    Iraq Office of the Assistant Secretary of Defe...\n",
       "Name: Message, dtype: object"
      ]
     },
     "execution_count": 41,
     "metadata": {},
     "output_type": "execute_result"
    }
   ],
   "source": [
    "labels = clusters.labels_\n",
    "idx = np.where(labels == 0)\n",
    "\n",
    "dense = thread[\"Message\"][idx[0]]\n",
    "dense"
   ]
  },
  {
   "cell_type": "code",
   "execution_count": 42,
   "metadata": {},
   "outputs": [
    {
     "data": {
      "text/html": [
       "<div>\n",
       "<style scoped>\n",
       "    .dataframe tbody tr th:only-of-type {\n",
       "        vertical-align: middle;\n",
       "    }\n",
       "\n",
       "    .dataframe tbody tr th {\n",
       "        vertical-align: top;\n",
       "    }\n",
       "\n",
       "    .dataframe thead th {\n",
       "        text-align: right;\n",
       "    }\n",
       "</style>\n",
       "<table border=\"1\" class=\"dataframe\">\n",
       "  <thead>\n",
       "    <tr style=\"text-align: right;\">\n",
       "      <th></th>\n",
       "      <th>TF-IDF</th>\n",
       "    </tr>\n",
       "  </thead>\n",
       "  <tbody>\n",
       "    <tr>\n",
       "      <th>canadian</th>\n",
       "      <td>0.320059</td>\n",
       "    </tr>\n",
       "    <tr>\n",
       "      <th>09</th>\n",
       "      <td>0.220735</td>\n",
       "    </tr>\n",
       "    <tr>\n",
       "      <th>device</th>\n",
       "      <td>0.220735</td>\n",
       "    </tr>\n",
       "    <tr>\n",
       "      <th>explosive</th>\n",
       "      <td>0.220735</td>\n",
       "    </tr>\n",
       "    <tr>\n",
       "      <th>killed</th>\n",
       "      <td>0.218822</td>\n",
       "    </tr>\n",
       "    <tr>\n",
       "      <th>22e</th>\n",
       "      <td>0.217914</td>\n",
       "    </tr>\n",
       "    <tr>\n",
       "      <th>06</th>\n",
       "      <td>0.217914</td>\n",
       "    </tr>\n",
       "    <tr>\n",
       "      <th>ndcf</th>\n",
       "      <td>0.217914</td>\n",
       "    </tr>\n",
       "    <tr>\n",
       "      <th>08</th>\n",
       "      <td>0.217914</td>\n",
       "    </tr>\n",
       "    <tr>\n",
       "      <th>bataillon</th>\n",
       "      <td>0.217914</td>\n",
       "    </tr>\n",
       "    <tr>\n",
       "      <th>régiment</th>\n",
       "      <td>0.217914</td>\n",
       "    </tr>\n",
       "    <tr>\n",
       "      <th>strike</th>\n",
       "      <td>0.193890</td>\n",
       "    </tr>\n",
       "    <tr>\n",
       "      <th>royal</th>\n",
       "      <td>0.175255</td>\n",
       "    </tr>\n",
       "    <tr>\n",
       "      <th>kandahar</th>\n",
       "      <td>0.175255</td>\n",
       "    </tr>\n",
       "    <tr>\n",
       "      <th>soldier</th>\n",
       "      <td>0.164117</td>\n",
       "    </tr>\n",
       "    <tr>\n",
       "      <th>city</th>\n",
       "      <td>0.160030</td>\n",
       "    </tr>\n",
       "    <tr>\n",
       "      <th>péloquin</th>\n",
       "      <td>0.125887</td>\n",
       "    </tr>\n",
       "    <tr>\n",
       "      <th>2e</th>\n",
       "      <td>0.125887</td>\n",
       "    </tr>\n",
       "    <tr>\n",
       "      <th>panjwai</th>\n",
       "      <td>0.125887</td>\n",
       "    </tr>\n",
       "    <tr>\n",
       "      <th>alexandre</th>\n",
       "      <td>0.125887</td>\n",
       "    </tr>\n",
       "    <tr>\n",
       "      <th>june</th>\n",
       "      <td>0.108957</td>\n",
       "    </tr>\n",
       "    <tr>\n",
       "      <th>quebec</th>\n",
       "      <td>0.108957</td>\n",
       "    </tr>\n",
       "    <tr>\n",
       "      <th>3e</th>\n",
       "      <td>0.108957</td>\n",
       "    </tr>\n",
       "    <tr>\n",
       "      <th>valcartier</th>\n",
       "      <td>0.108957</td>\n",
       "    </tr>\n",
       "    <tr>\n",
       "      <th>battle</th>\n",
       "      <td>0.096945</td>\n",
       "    </tr>\n",
       "  </tbody>\n",
       "</table>\n",
       "</div>"
      ],
      "text/plain": [
       "              TF-IDF\n",
       "canadian    0.320059\n",
       "09          0.220735\n",
       "device      0.220735\n",
       "explosive   0.220735\n",
       "killed      0.218822\n",
       "22e         0.217914\n",
       "06          0.217914\n",
       "ndcf        0.217914\n",
       "08          0.217914\n",
       "bataillon   0.217914\n",
       "régiment    0.217914\n",
       "strike      0.193890\n",
       "royal       0.175255\n",
       "kandahar    0.175255\n",
       "soldier     0.164117\n",
       "city        0.160030\n",
       "péloquin    0.125887\n",
       "2e          0.125887\n",
       "panjwai     0.125887\n",
       "alexandre   0.125887\n",
       "june        0.108957\n",
       "quebec      0.108957\n",
       "3e          0.108957\n",
       "valcartier  0.108957\n",
       "battle      0.096945"
      ]
     },
     "execution_count": 42,
     "metadata": {},
     "output_type": "execute_result"
    }
   ],
   "source": [
    "#get word importance\n",
    "importance = wordImportance(dense)\n",
    "importance.head(25)"
   ]
  },
  {
   "cell_type": "code",
   "execution_count": 43,
   "metadata": {},
   "outputs": [],
   "source": [
    "cleanData(dense)\n",
    "allWords = np.char.lower(np.concatenate(dense.to_numpy()))\n",
    "uniqueWords = list(set(allWords) - set(stopwords.words('english')))\n",
    "\n",
    "counts = []\n",
    "words = []\n",
    "\n",
    "for i in range(0,len(uniqueWords)):\n",
    "    words.append(uniqueWords[i])\n",
    "    counts.append(wordCount(uniqueWords[i], allWords))"
   ]
  },
  {
   "cell_type": "code",
   "execution_count": 44,
   "metadata": {},
   "outputs": [
    {
     "data": {
      "text/html": [
       "<div>\n",
       "<style scoped>\n",
       "    .dataframe tbody tr th:only-of-type {\n",
       "        vertical-align: middle;\n",
       "    }\n",
       "\n",
       "    .dataframe tbody tr th {\n",
       "        vertical-align: top;\n",
       "    }\n",
       "\n",
       "    .dataframe thead th {\n",
       "        text-align: right;\n",
       "    }\n",
       "</style>\n",
       "<table border=\"1\" class=\"dataframe\">\n",
       "  <thead>\n",
       "    <tr style=\"text-align: right;\">\n",
       "      <th></th>\n",
       "      <th>words</th>\n",
       "      <th>counts</th>\n",
       "    </tr>\n",
       "  </thead>\n",
       "  <tbody>\n",
       "    <tr>\n",
       "      <th>453</th>\n",
       "      <td>afghanistan</td>\n",
       "      <td>96</td>\n",
       "    </tr>\n",
       "    <tr>\n",
       "      <th>357</th>\n",
       "      <td>killed</td>\n",
       "      <td>94</td>\n",
       "    </tr>\n",
       "    <tr>\n",
       "      <th>759</th>\n",
       "      <td>war</td>\n",
       "      <td>9</td>\n",
       "    </tr>\n",
       "    <tr>\n",
       "      <th>308</th>\n",
       "      <td>improvised</td>\n",
       "      <td>9</td>\n",
       "    </tr>\n",
       "    <tr>\n",
       "      <th>40</th>\n",
       "      <td>explosive</td>\n",
       "      <td>9</td>\n",
       "    </tr>\n",
       "    <tr>\n",
       "      <th>46</th>\n",
       "      <td>spokesman</td>\n",
       "      <td>9</td>\n",
       "    </tr>\n",
       "    <tr>\n",
       "      <th>1049</th>\n",
       "      <td>others</td>\n",
       "      <td>9</td>\n",
       "    </tr>\n",
       "    <tr>\n",
       "      <th>900</th>\n",
       "      <td>five</td>\n",
       "      <td>9</td>\n",
       "    </tr>\n",
       "    <tr>\n",
       "      <th>96</th>\n",
       "      <td>casualties</td>\n",
       "      <td>9</td>\n",
       "    </tr>\n",
       "    <tr>\n",
       "      <th>457</th>\n",
       "      <td>number</td>\n",
       "      <td>9</td>\n",
       "    </tr>\n",
       "    <tr>\n",
       "      <th>359</th>\n",
       "      <td>injured</td>\n",
       "      <td>9</td>\n",
       "    </tr>\n",
       "    <tr>\n",
       "      <th>254</th>\n",
       "      <td>friday</td>\n",
       "      <td>8</td>\n",
       "    </tr>\n",
       "    <tr>\n",
       "      <th>857</th>\n",
       "      <td>four</td>\n",
       "      <td>8</td>\n",
       "    </tr>\n",
       "    <tr>\n",
       "      <th>463</th>\n",
       "      <td>sunday</td>\n",
       "      <td>8</td>\n",
       "    </tr>\n",
       "    <tr>\n",
       "      <th>165</th>\n",
       "      <td>dutch</td>\n",
       "      <td>8</td>\n",
       "    </tr>\n",
       "    <tr>\n",
       "      <th>84</th>\n",
       "      <td>another</td>\n",
       "      <td>8</td>\n",
       "    </tr>\n",
       "    <tr>\n",
       "      <th>244</th>\n",
       "      <td>saturday</td>\n",
       "      <td>8</td>\n",
       "    </tr>\n",
       "    <tr>\n",
       "      <th>413</th>\n",
       "      <td>device</td>\n",
       "      <td>8</td>\n",
       "    </tr>\n",
       "    <tr>\n",
       "      <th>420</th>\n",
       "      <td>combat</td>\n",
       "      <td>8</td>\n",
       "    </tr>\n",
       "    <tr>\n",
       "      <th>32</th>\n",
       "      <td>base</td>\n",
       "      <td>8</td>\n",
       "    </tr>\n",
       "    <tr>\n",
       "      <th>203</th>\n",
       "      <td>081709</td>\n",
       "      <td>7</td>\n",
       "    </tr>\n",
       "    <tr>\n",
       "      <th>629</th>\n",
       "      <td>notification</td>\n",
       "      <td>7</td>\n",
       "    </tr>\n",
       "    <tr>\n",
       "      <th>1008</th>\n",
       "      <td>day</td>\n",
       "      <td>7</td>\n",
       "    </tr>\n",
       "    <tr>\n",
       "      <th>368</th>\n",
       "      <td>foreign</td>\n",
       "      <td>7</td>\n",
       "    </tr>\n",
       "    <tr>\n",
       "      <th>613</th>\n",
       "      <td>press</td>\n",
       "      <td>7</td>\n",
       "    </tr>\n",
       "  </tbody>\n",
       "</table>\n",
       "</div>"
      ],
      "text/plain": [
       "             words counts\n",
       "453    afghanistan     96\n",
       "357         killed     94\n",
       "759            war      9\n",
       "308     improvised      9\n",
       "40       explosive      9\n",
       "46       spokesman      9\n",
       "1049        others      9\n",
       "900           five      9\n",
       "96      casualties      9\n",
       "457         number      9\n",
       "359        injured      9\n",
       "254         friday      8\n",
       "857           four      8\n",
       "463         sunday      8\n",
       "165          dutch      8\n",
       "84         another      8\n",
       "244       saturday      8\n",
       "413         device      8\n",
       "420         combat      8\n",
       "32            base      8\n",
       "203         081709      7\n",
       "629   notification      7\n",
       "1008           day      7\n",
       "368        foreign      7\n",
       "613          press      7"
      ]
     },
     "execution_count": 44,
     "metadata": {},
     "output_type": "execute_result"
    }
   ],
   "source": [
    "allCounts = pd.DataFrame(np.array([words,counts]).T,columns = [\"words\",\"counts\"])\n",
    "allCounts = allCounts.sort_values(by = [\"counts\"], ascending=False)\n",
    "allCounts.head(25)"
   ]
  },
  {
   "cell_type": "markdown",
   "metadata": {},
   "source": [
    "Analysis of words, sentences, posts\n",
    "Seperate people analysis \n",
    "Sentiment spread from person to person"
   ]
  }
 ],
 "metadata": {
  "kernelspec": {
   "display_name": "Python 3 (ipykernel)",
   "language": "python",
   "name": "python3"
  },
  "language_info": {
   "codemirror_mode": {
    "name": "ipython",
    "version": 3
   },
   "file_extension": ".py",
   "mimetype": "text/x-python",
   "name": "python",
   "nbconvert_exporter": "python",
   "pygments_lexer": "ipython3",
   "version": "3.9.7"
  }
 },
 "nbformat": 4,
 "nbformat_minor": 2
}
