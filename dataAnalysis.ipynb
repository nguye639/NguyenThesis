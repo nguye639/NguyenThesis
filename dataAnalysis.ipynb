{
 "cells": [
  {
   "cell_type": "code",
   "execution_count": 1,
   "metadata": {},
   "outputs": [],
   "source": [
    "import numpy as np\n",
    "import pandas as pd\n",
    "import matplotlib.pyplot as plt"
   ]
  },
  {
   "cell_type": "code",
   "execution_count": 2,
   "metadata": {},
   "outputs": [],
   "source": [
    "def processData(path):\n",
    "    with open(path) as file:\n",
    "        lines = file.readlines()\n",
    "        lines = [line.rstrip() for line in lines]\n",
    "\n",
    "    cols = lines[0].split(\"\\t\")\n",
    "    data = lines[2:]\n",
    "    \n",
    "    frame = []\n",
    "    for i in data:\n",
    "        row = i.split(\"\\t\")\n",
    "        if len(row) > 11:\n",
    "            pass\n",
    "        else:\n",
    "            frame.append(row)\n",
    "    messages = pd.DataFrame(frame, columns = cols)\n",
    "    \n",
    "    return messages"
   ]
  },
  {
   "cell_type": "code",
   "execution_count": 3,
   "metadata": {},
   "outputs": [],
   "source": [
    "path = \"Ansar1/Ansar1.txt\"\n",
    "\n",
    "messages = processData(path)"
   ]
  },
  {
   "cell_type": "code",
   "execution_count": 4,
   "metadata": {},
   "outputs": [
    {
     "data": {
      "text/html": [
       "<div>\n",
       "<style scoped>\n",
       "    .dataframe tbody tr th:only-of-type {\n",
       "        vertical-align: middle;\n",
       "    }\n",
       "\n",
       "    .dataframe tbody tr th {\n",
       "        vertical-align: top;\n",
       "    }\n",
       "\n",
       "    .dataframe thead th {\n",
       "        text-align: right;\n",
       "    }\n",
       "</style>\n",
       "<table border=\"1\" class=\"dataframe\">\n",
       "  <thead>\n",
       "    <tr style=\"text-align: right;\">\n",
       "      <th></th>\n",
       "      <th>﻿MessageID</th>\n",
       "      <th>ThreadID</th>\n",
       "      <th>ThreadName</th>\n",
       "      <th>MemberID</th>\n",
       "      <th>MemberName</th>\n",
       "      <th>Message</th>\n",
       "      <th>P_Year</th>\n",
       "      <th>P_Month</th>\n",
       "      <th>P_Day</th>\n",
       "      <th>P_Date</th>\n",
       "      <th>ThreadFirstMessageID</th>\n",
       "    </tr>\n",
       "  </thead>\n",
       "  <tbody>\n",
       "    <tr>\n",
       "      <th>0</th>\n",
       "      <td>10001</td>\n",
       "      <td>4029</td>\n",
       "      <td>Would-be Marine Matthew Dear died 'after takin...</td>\n",
       "      <td>1060</td>\n",
       "      <td>al-Turki</td>\n",
       "      <td>http://www.timesonline.co.uk/tol/new...cle6139...</td>\n",
       "      <td>2009</td>\n",
       "      <td>04</td>\n",
       "      <td>22</td>\n",
       "      <td>2009-04-22 00:00:00.000</td>\n",
       "      <td>10001</td>\n",
       "    </tr>\n",
       "    <tr>\n",
       "      <th>1</th>\n",
       "      <td>10002</td>\n",
       "      <td>4030</td>\n",
       "      <td>Gunshot kills Marine in Iraq</td>\n",
       "      <td>1060</td>\n",
       "      <td>al-Turki</td>\n",
       "      <td>http://www.honoluluadvertiser.com/ar...9042203...</td>\n",
       "      <td>2009</td>\n",
       "      <td>04</td>\n",
       "      <td>22</td>\n",
       "      <td>2009-04-22 00:00:00.000</td>\n",
       "      <td>10002</td>\n",
       "    </tr>\n",
       "    <tr>\n",
       "      <th>2</th>\n",
       "      <td>10004</td>\n",
       "      <td>1197</td>\n",
       "      <td>Latest Coalition Fatalities - Iraq/Afghanistan...</td>\n",
       "      <td>54</td>\n",
       "      <td>ANSAR 007</td>\n",
       "      <td>Iraq Office of the Assistant Secretary of Defe...</td>\n",
       "      <td>2009</td>\n",
       "      <td>04</td>\n",
       "      <td>22</td>\n",
       "      <td>2009-04-22 00:00:00.000</td>\n",
       "      <td>2051</td>\n",
       "    </tr>\n",
       "    <tr>\n",
       "      <th>3</th>\n",
       "      <td>10005</td>\n",
       "      <td>4031</td>\n",
       "      <td>Gunmen kill three Russian soldiers in Chechnya</td>\n",
       "      <td>932</td>\n",
       "      <td>Abu Fatima</td>\n",
       "      <td>As'Salaamu alaikum. Because the war is over an...</td>\n",
       "      <td>2009</td>\n",
       "      <td>04</td>\n",
       "      <td>22</td>\n",
       "      <td>2009-04-22 00:00:00.000</td>\n",
       "      <td>10005</td>\n",
       "    </tr>\n",
       "    <tr>\n",
       "      <th>4</th>\n",
       "      <td>10006</td>\n",
       "      <td>4032</td>\n",
       "      <td>More Pakistani cities fall into Taliban hand</td>\n",
       "      <td>54</td>\n",
       "      <td>ANSAR 007</td>\n",
       "      <td>More Pakistani cities fall into Taliban hand W...</td>\n",
       "      <td>2009</td>\n",
       "      <td>04</td>\n",
       "      <td>22</td>\n",
       "      <td>2009-04-22 00:00:00.000</td>\n",
       "      <td>10006</td>\n",
       "    </tr>\n",
       "  </tbody>\n",
       "</table>\n",
       "</div>"
      ],
      "text/plain": [
       "  ﻿MessageID ThreadID                                         ThreadName  \\\n",
       "0      10001     4029  Would-be Marine Matthew Dear died 'after takin...   \n",
       "1      10002     4030                       Gunshot kills Marine in Iraq   \n",
       "2      10004     1197  Latest Coalition Fatalities - Iraq/Afghanistan...   \n",
       "3      10005     4031     Gunmen kill three Russian soldiers in Chechnya   \n",
       "4      10006     4032       More Pakistani cities fall into Taliban hand   \n",
       "\n",
       "  MemberID  MemberName                                            Message  \\\n",
       "0     1060    al-Turki  http://www.timesonline.co.uk/tol/new...cle6139...   \n",
       "1     1060    al-Turki  http://www.honoluluadvertiser.com/ar...9042203...   \n",
       "2       54   ANSAR 007  Iraq Office of the Assistant Secretary of Defe...   \n",
       "3      932  Abu Fatima  As'Salaamu alaikum. Because the war is over an...   \n",
       "4       54   ANSAR 007  More Pakistani cities fall into Taliban hand W...   \n",
       "\n",
       "  P_Year P_Month P_Day                   P_Date ThreadFirstMessageID  \n",
       "0   2009      04    22  2009-04-22 00:00:00.000                10001  \n",
       "1   2009      04    22  2009-04-22 00:00:00.000                10002  \n",
       "2   2009      04    22  2009-04-22 00:00:00.000                 2051  \n",
       "3   2009      04    22  2009-04-22 00:00:00.000                10005  \n",
       "4   2009      04    22  2009-04-22 00:00:00.000                10006  "
      ]
     },
     "execution_count": 4,
     "metadata": {},
     "output_type": "execute_result"
    }
   ],
   "source": [
    "messages.head()"
   ]
  },
  {
   "cell_type": "code",
   "execution_count": 5,
   "metadata": {},
   "outputs": [],
   "source": [
    "threads = messages[\"ThreadID\"].unique()"
   ]
  },
  {
   "cell_type": "code",
   "execution_count": 6,
   "metadata": {},
   "outputs": [],
   "source": [
    "threadLengths = []\n",
    "\n",
    "for i in threads:\n",
    "    threadLengths.append(len(messages[messages[\"ThreadID\"] == i]))"
   ]
  },
  {
   "cell_type": "code",
   "execution_count": 7,
   "metadata": {},
   "outputs": [
    {
     "name": "stdout",
     "output_type": "stream",
     "text": [
      "2.622342791069999\n",
      "1.0\n"
     ]
    },
    {
     "data": {
      "image/png": "[encoded data removed]",
      "text/plain": [
       "<Figure size 432x288 with 1 Axes>"
      ]
     },
     "metadata": {
      "needs_background": "light"
     },
     "output_type": "display_data"
    }
   ],
   "source": [
    "plt.hist(threadLengths)\n",
    "plt.yscale(\"log\")\n",
    "print(np.mean(threadLengths))\n",
    "print(np.median(threadLengths))"
   ]
  },
  {
   "cell_type": "code",
   "execution_count": 8,
   "metadata": {},
   "outputs": [],
   "source": [
    "#Only want threads with length > 1\n",
    "replies = messages[messages.duplicated(subset=['ThreadID'], keep=False)]"
   ]
  },
  {
   "cell_type": "code",
   "execution_count": 9,
   "metadata": {},
   "outputs": [],
   "source": [
    "replyLengths = []\n",
    "replyThreads = replies[\"ThreadID\"].unique()\n",
    "for i in threads:\n",
    "    replyLengths.append(len(replies[replies[\"ThreadID\"] == i]))\n",
    "\n"
   ]
  },
  {
   "cell_type": "code",
   "execution_count": 10,
   "metadata": {},
   "outputs": [
    {
     "name": "stdout",
     "output_type": "stream",
     "text": [
      "4.564588626148134\n",
      "3.0\n"
     ]
    },
    {
     "data": {
      "image/png": "[encoded data removed]",
      "text/plain": [
       "<Figure size 432x288 with 1 Axes>"
      ]
     },
     "metadata": {
      "needs_background": "light"
     },
     "output_type": "display_data"
    }
   ],
   "source": [
    "replyLengths = np.array(replyLengths)\n",
    "replyLengths = replyLengths[replyLengths > 0]\n",
    "plt.hist(replyLengths)\n",
    "plt.yscale(\"log\")\n",
    "\n",
    "print(np.mean(replyLengths))\n",
    "print(np.median(replyLengths))"
   ]
  },
  {
   "cell_type": "code",
   "execution_count": 11,
   "metadata": {},
   "outputs": [
    {
     "data": {
      "text/html": [
       "<div>\n",
       "<style scoped>\n",
       "    .dataframe tbody tr th:only-of-type {\n",
       "        vertical-align: middle;\n",
       "    }\n",
       "\n",
       "    .dataframe tbody tr th {\n",
       "        vertical-align: top;\n",
       "    }\n",
       "\n",
       "    .dataframe thead th {\n",
       "        text-align: right;\n",
       "    }\n",
       "</style>\n",
       "<table border=\"1\" class=\"dataframe\">\n",
       "  <thead>\n",
       "    <tr style=\"text-align: right;\">\n",
       "      <th></th>\n",
       "      <th>﻿MessageID</th>\n",
       "      <th>ThreadID</th>\n",
       "      <th>ThreadName</th>\n",
       "      <th>MemberID</th>\n",
       "      <th>MemberName</th>\n",
       "      <th>Message</th>\n",
       "      <th>P_Year</th>\n",
       "      <th>P_Month</th>\n",
       "      <th>P_Day</th>\n",
       "      <th>P_Date</th>\n",
       "      <th>ThreadFirstMessageID</th>\n",
       "    </tr>\n",
       "  </thead>\n",
       "  <tbody>\n",
       "    <tr>\n",
       "      <th>2</th>\n",
       "      <td>10004</td>\n",
       "      <td>1197</td>\n",
       "      <td>Latest Coalition Fatalities - Iraq/Afghanistan...</td>\n",
       "      <td>54</td>\n",
       "      <td>ANSAR 007</td>\n",
       "      <td>Iraq Office of the Assistant Secretary of Defe...</td>\n",
       "      <td>2009</td>\n",
       "      <td>04</td>\n",
       "      <td>22</td>\n",
       "      <td>2009-04-22 00:00:00.000</td>\n",
       "      <td>2051</td>\n",
       "    </tr>\n",
       "    <tr>\n",
       "      <th>3</th>\n",
       "      <td>10005</td>\n",
       "      <td>4031</td>\n",
       "      <td>Gunmen kill three Russian soldiers in Chechnya</td>\n",
       "      <td>932</td>\n",
       "      <td>Abu Fatima</td>\n",
       "      <td>As'Salaamu alaikum. Because the war is over an...</td>\n",
       "      <td>2009</td>\n",
       "      <td>04</td>\n",
       "      <td>22</td>\n",
       "      <td>2009-04-22 00:00:00.000</td>\n",
       "      <td>10005</td>\n",
       "    </tr>\n",
       "    <tr>\n",
       "      <th>4</th>\n",
       "      <td>10006</td>\n",
       "      <td>4032</td>\n",
       "      <td>More Pakistani cities fall into Taliban hand</td>\n",
       "      <td>54</td>\n",
       "      <td>ANSAR 007</td>\n",
       "      <td>More Pakistani cities fall into Taliban hand W...</td>\n",
       "      <td>2009</td>\n",
       "      <td>04</td>\n",
       "      <td>22</td>\n",
       "      <td>2009-04-22 00:00:00.000</td>\n",
       "      <td>10006</td>\n",
       "    </tr>\n",
       "    <tr>\n",
       "      <th>5</th>\n",
       "      <td>10007</td>\n",
       "      <td>4031</td>\n",
       "      <td>Gunmen kill three Russian soldiers in Chechnya</td>\n",
       "      <td>54</td>\n",
       "      <td>ANSAR 007</td>\n",
       "      <td>3 soldiers killed in Chechnya despite 'stabili...</td>\n",
       "      <td>2009</td>\n",
       "      <td>04</td>\n",
       "      <td>22</td>\n",
       "      <td>2009-04-22 00:00:00.000</td>\n",
       "      <td>10005</td>\n",
       "    </tr>\n",
       "    <tr>\n",
       "      <th>6</th>\n",
       "      <td>10008</td>\n",
       "      <td>4033</td>\n",
       "      <td>Jaish Abu Bakr al-Siddiqq al-Salafi: Bombing C...</td>\n",
       "      <td>12</td>\n",
       "      <td>Insurgent</td>\n",
       "      <td>بسم الله الرحمن الرحيم الحمد لله ناصر المؤمنين...</td>\n",
       "      <td>2009</td>\n",
       "      <td>04</td>\n",
       "      <td>22</td>\n",
       "      <td>2009-04-22 00:00:00.000</td>\n",
       "      <td>10008</td>\n",
       "    </tr>\n",
       "  </tbody>\n",
       "</table>\n",
       "</div>"
      ],
      "text/plain": [
       "  ﻿MessageID ThreadID                                         ThreadName  \\\n",
       "2      10004     1197  Latest Coalition Fatalities - Iraq/Afghanistan...   \n",
       "3      10005     4031     Gunmen kill three Russian soldiers in Chechnya   \n",
       "4      10006     4032       More Pakistani cities fall into Taliban hand   \n",
       "5      10007     4031     Gunmen kill three Russian soldiers in Chechnya   \n",
       "6      10008     4033  Jaish Abu Bakr al-Siddiqq al-Salafi: Bombing C...   \n",
       "\n",
       "  MemberID  MemberName                                            Message  \\\n",
       "2       54   ANSAR 007  Iraq Office of the Assistant Secretary of Defe...   \n",
       "3      932  Abu Fatima  As'Salaamu alaikum. Because the war is over an...   \n",
       "4       54   ANSAR 007  More Pakistani cities fall into Taliban hand W...   \n",
       "5       54   ANSAR 007  3 soldiers killed in Chechnya despite 'stabili...   \n",
       "6       12   Insurgent  بسم الله الرحمن الرحيم الحمد لله ناصر المؤمنين...   \n",
       "\n",
       "  P_Year P_Month P_Day                   P_Date ThreadFirstMessageID  \n",
       "2   2009      04    22  2009-04-22 00:00:00.000                 2051  \n",
       "3   2009      04    22  2009-04-22 00:00:00.000                10005  \n",
       "4   2009      04    22  2009-04-22 00:00:00.000                10006  \n",
       "5   2009      04    22  2009-04-22 00:00:00.000                10005  \n",
       "6   2009      04    22  2009-04-22 00:00:00.000                10008  "
      ]
     },
     "execution_count": 11,
     "metadata": {},
     "output_type": "execute_result"
    }
   ],
   "source": [
    "replies.head()"
   ]
  },
  {
   "cell_type": "code",
   "execution_count": 12,
   "metadata": {},
   "outputs": [],
   "source": [
    "members = replies[\"MemberID\"].unique()"
   ]
  },
  {
   "cell_type": "code",
   "execution_count": 13,
   "metadata": {},
   "outputs": [],
   "source": [
    "connections = []\n",
    "for i in members:\n",
    "    length = len(replies[\"ThreadID\"][replies[\"MemberID\"] == i])\n",
    "    connections.append(length)\n",
    "    "
   ]
  },
  {
   "cell_type": "code",
   "execution_count": 14,
   "metadata": {},
   "outputs": [
    {
     "name": "stdout",
     "output_type": "stream",
     "text": [
      "62.45187165775401\n",
      "9.0\n",
      "1\n"
     ]
    },
    {
     "data": {
      "image/png": "[encoded data removed]",
      "text/plain": [
       "<Figure size 432x288 with 1 Axes>"
      ]
     },
     "metadata": {
      "needs_background": "light"
     },
     "output_type": "display_data"
    }
   ],
   "source": [
    "plt.hist(connections)\n",
    "plt.yscale(\"log\")\n",
    "print(np.mean(connections))\n",
    "print(np.median(connections))\n",
    "print(np.min(connections))"
   ]
  },
  {
   "cell_type": "code",
   "execution_count": 15,
   "metadata": {},
   "outputs": [],
   "source": [
    "#Only want threads with connecting members\n",
    "connected = replies[replies.duplicated(subset=['MemberID'], keep=False)]"
   ]
  },
  {
   "cell_type": "code",
   "execution_count": 16,
   "metadata": {},
   "outputs": [
    {
     "data": {
      "text/html": [
       "<div>\n",
       "<style scoped>\n",
       "    .dataframe tbody tr th:only-of-type {\n",
       "        vertical-align: middle;\n",
       "    }\n",
       "\n",
       "    .dataframe tbody tr th {\n",
       "        vertical-align: top;\n",
       "    }\n",
       "\n",
       "    .dataframe thead th {\n",
       "        text-align: right;\n",
       "    }\n",
       "</style>\n",
       "<table border=\"1\" class=\"dataframe\">\n",
       "  <thead>\n",
       "    <tr style=\"text-align: right;\">\n",
       "      <th></th>\n",
       "      <th>﻿MessageID</th>\n",
       "      <th>ThreadID</th>\n",
       "      <th>ThreadName</th>\n",
       "      <th>MemberID</th>\n",
       "      <th>MemberName</th>\n",
       "      <th>Message</th>\n",
       "      <th>P_Year</th>\n",
       "      <th>P_Month</th>\n",
       "      <th>P_Day</th>\n",
       "      <th>P_Date</th>\n",
       "      <th>ThreadFirstMessageID</th>\n",
       "    </tr>\n",
       "  </thead>\n",
       "  <tbody>\n",
       "    <tr>\n",
       "      <th>2</th>\n",
       "      <td>10004</td>\n",
       "      <td>1197</td>\n",
       "      <td>Latest Coalition Fatalities - Iraq/Afghanistan...</td>\n",
       "      <td>54</td>\n",
       "      <td>ANSAR 007</td>\n",
       "      <td>Iraq Office of the Assistant Secretary of Defe...</td>\n",
       "      <td>2009</td>\n",
       "      <td>04</td>\n",
       "      <td>22</td>\n",
       "      <td>2009-04-22 00:00:00.000</td>\n",
       "      <td>2051</td>\n",
       "    </tr>\n",
       "    <tr>\n",
       "      <th>3</th>\n",
       "      <td>10005</td>\n",
       "      <td>4031</td>\n",
       "      <td>Gunmen kill three Russian soldiers in Chechnya</td>\n",
       "      <td>932</td>\n",
       "      <td>Abu Fatima</td>\n",
       "      <td>As'Salaamu alaikum. Because the war is over an...</td>\n",
       "      <td>2009</td>\n",
       "      <td>04</td>\n",
       "      <td>22</td>\n",
       "      <td>2009-04-22 00:00:00.000</td>\n",
       "      <td>10005</td>\n",
       "    </tr>\n",
       "    <tr>\n",
       "      <th>4</th>\n",
       "      <td>10006</td>\n",
       "      <td>4032</td>\n",
       "      <td>More Pakistani cities fall into Taliban hand</td>\n",
       "      <td>54</td>\n",
       "      <td>ANSAR 007</td>\n",
       "      <td>More Pakistani cities fall into Taliban hand W...</td>\n",
       "      <td>2009</td>\n",
       "      <td>04</td>\n",
       "      <td>22</td>\n",
       "      <td>2009-04-22 00:00:00.000</td>\n",
       "      <td>10006</td>\n",
       "    </tr>\n",
       "    <tr>\n",
       "      <th>5</th>\n",
       "      <td>10007</td>\n",
       "      <td>4031</td>\n",
       "      <td>Gunmen kill three Russian soldiers in Chechnya</td>\n",
       "      <td>54</td>\n",
       "      <td>ANSAR 007</td>\n",
       "      <td>3 soldiers killed in Chechnya despite 'stabili...</td>\n",
       "      <td>2009</td>\n",
       "      <td>04</td>\n",
       "      <td>22</td>\n",
       "      <td>2009-04-22 00:00:00.000</td>\n",
       "      <td>10005</td>\n",
       "    </tr>\n",
       "    <tr>\n",
       "      <th>6</th>\n",
       "      <td>10008</td>\n",
       "      <td>4033</td>\n",
       "      <td>Jaish Abu Bakr al-Siddiqq al-Salafi: Bombing C...</td>\n",
       "      <td>12</td>\n",
       "      <td>Insurgent</td>\n",
       "      <td>بسم الله الرحمن الرحيم الحمد لله ناصر المؤمنين...</td>\n",
       "      <td>2009</td>\n",
       "      <td>04</td>\n",
       "      <td>22</td>\n",
       "      <td>2009-04-22 00:00:00.000</td>\n",
       "      <td>10008</td>\n",
       "    </tr>\n",
       "  </tbody>\n",
       "</table>\n",
       "</div>"
      ],
      "text/plain": [
       "  ﻿MessageID ThreadID                                         ThreadName  \\\n",
       "2      10004     1197  Latest Coalition Fatalities - Iraq/Afghanistan...   \n",
       "3      10005     4031     Gunmen kill three Russian soldiers in Chechnya   \n",
       "4      10006     4032       More Pakistani cities fall into Taliban hand   \n",
       "5      10007     4031     Gunmen kill three Russian soldiers in Chechnya   \n",
       "6      10008     4033  Jaish Abu Bakr al-Siddiqq al-Salafi: Bombing C...   \n",
       "\n",
       "  MemberID  MemberName                                            Message  \\\n",
       "2       54   ANSAR 007  Iraq Office of the Assistant Secretary of Defe...   \n",
       "3      932  Abu Fatima  As'Salaamu alaikum. Because the war is over an...   \n",
       "4       54   ANSAR 007  More Pakistani cities fall into Taliban hand W...   \n",
       "5       54   ANSAR 007  3 soldiers killed in Chechnya despite 'stabili...   \n",
       "6       12   Insurgent  بسم الله الرحمن الرحيم الحمد لله ناصر المؤمنين...   \n",
       "\n",
       "  P_Year P_Month P_Day                   P_Date ThreadFirstMessageID  \n",
       "2   2009      04    22  2009-04-22 00:00:00.000                 2051  \n",
       "3   2009      04    22  2009-04-22 00:00:00.000                10005  \n",
       "4   2009      04    22  2009-04-22 00:00:00.000                10006  \n",
       "5   2009      04    22  2009-04-22 00:00:00.000                10005  \n",
       "6   2009      04    22  2009-04-22 00:00:00.000                10008  "
      ]
     },
     "execution_count": 16,
     "metadata": {},
     "output_type": "execute_result"
    }
   ],
   "source": [
    "connected.head()"
   ]
  },
  {
   "cell_type": "code",
   "execution_count": 17,
   "metadata": {},
   "outputs": [],
   "source": [
    "connected.to_csv(\"Ansar1Clean.csv\")"
   ]
  },
  {
   "cell_type": "code",
   "execution_count": null,
   "metadata": {},
   "outputs": [],
   "source": []
  }
 ],
 "metadata": {
  "kernelspec": {
   "display_name": "Python 3 (ipykernel)",
   "language": "python",
   "name": "python3"
  },
  "language_info": {
   "codemirror_mode": {
    "name": "ipython",
    "version": 3
   },
   "file_extension": ".py",
   "mimetype": "text/x-python",
   "name": "python",
   "nbconvert_exporter": "python",
   "pygments_lexer": "ipython3",
   "version": "3.9.7"
  }
 },
 "nbformat": 4,
 "nbformat_minor": 2
}
