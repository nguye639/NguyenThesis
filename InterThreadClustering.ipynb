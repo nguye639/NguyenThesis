{
 "cells": [
  {
   "cell_type": "code",
   "execution_count": 1,
   "metadata": {},
   "outputs": [],
   "source": [
    "import numpy as np\n",
    "import matplotlib.pyplot as plt\n",
    "import networkx as nx\n",
    "import pandas as pd\n",
    "import sklearn\n",
    "import re\n",
    "from scipy.spatial.distance import jaccard\n",
    "from sklearn.cluster import SpectralClustering as cluster\n",
    "from sklearn.preprocessing import StandardScaler\n",
    "from sklearn.cluster import DBSCAN\n",
    "from sklearn.decomposition import PCA\n",
    "from scipy.spatial import distance"
   ]
  },
  {
   "cell_type": "code",
   "execution_count": 2,
   "metadata": {},
   "outputs": [],
   "source": [
    "#Look at members who commented in on graph and then became OP of another"
   ]
  },
  {
   "cell_type": "code",
   "execution_count": 3,
   "metadata": {},
   "outputs": [],
   "source": [
    "def jaccard_similarity(A, B):\n",
    "    #Find intersection of two sets\n",
    "    nominator = np.intersect1d(A,B)\n",
    "\n",
    "    #Find union of two sets\n",
    "    denominator = np.union1d(A,B)\n",
    "\n",
    "    #Take the ratio of sizes\n",
    "    similarity = len(nominator)/len(denominator)\n",
    "    \n",
    "    return similarity\n",
    "\n",
    "def getDistanceMatrix(thread):\n",
    "    matrix = []\n",
    "    for i in range(0,len(thread)):\n",
    "        row = []\n",
    "        for j in range(0,len(thread)):\n",
    "            dist = 1 - jaccard_similarity(thread[i],thread[j]) #1 - len(set(thread[i]).intersection(set(thread[j])))/len(thread[i])\n",
    "            row.append(dist)\n",
    "        matrix.append(row)\n",
    "    return matrix"
   ]
  },
  {
   "cell_type": "code",
   "execution_count": 4,
   "metadata": {},
   "outputs": [],
   "source": [
    "data = pd.read_csv(\"GawaherSentiment.csv\", index_col = 0)"
   ]
  },
  {
   "cell_type": "code",
   "execution_count": 5,
   "metadata": {},
   "outputs": [
    {
     "data": {
      "text/html": [
       "<div>\n",
       "<style scoped>\n",
       "    .dataframe tbody tr th:only-of-type {\n",
       "        vertical-align: middle;\n",
       "    }\n",
       "\n",
       "    .dataframe tbody tr th {\n",
       "        vertical-align: top;\n",
       "    }\n",
       "\n",
       "    .dataframe thead th {\n",
       "        text-align: right;\n",
       "    }\n",
       "</style>\n",
       "<table border=\"1\" class=\"dataframe\">\n",
       "  <thead>\n",
       "    <tr style=\"text-align: right;\">\n",
       "      <th></th>\n",
       "      <th>ThreadID</th>\n",
       "      <th>ThreadName</th>\n",
       "      <th>MemberID</th>\n",
       "      <th>MemberName</th>\n",
       "      <th>Message</th>\n",
       "      <th>P_Year</th>\n",
       "      <th>P_Month</th>\n",
       "      <th>P_Day</th>\n",
       "      <th>P_Date</th>\n",
       "      <th>ThreadFirstMessageID</th>\n",
       "      <th>NLTK</th>\n",
       "      <th>SentiStrength</th>\n",
       "      <th>AllenNLP</th>\n",
       "    </tr>\n",
       "    <tr>\n",
       "      <th>MessageID</th>\n",
       "      <th></th>\n",
       "      <th></th>\n",
       "      <th></th>\n",
       "      <th></th>\n",
       "      <th></th>\n",
       "      <th></th>\n",
       "      <th></th>\n",
       "      <th></th>\n",
       "      <th></th>\n",
       "      <th></th>\n",
       "      <th></th>\n",
       "      <th></th>\n",
       "      <th></th>\n",
       "    </tr>\n",
       "  </thead>\n",
       "  <tbody>\n",
       "    <tr>\n",
       "      <th>1000</th>\n",
       "      <td>240</td>\n",
       "      <td>Music in Islam</td>\n",
       "      <td>Moustafa</td>\n",
       "      <td>Moustafa</td>\n",
       "      <td>&lt;quote&gt;Quote Assalaamualaikum, Regardless of w...</td>\n",
       "      <td>2004</td>\n",
       "      <td>10</td>\n",
       "      <td>25</td>\n",
       "      <td>2004-10-25 18:22:00.000</td>\n",
       "      <td>806</td>\n",
       "      <td>0.9246</td>\n",
       "      <td>0.458831</td>\n",
       "      <td>-0.072225</td>\n",
       "    </tr>\n",
       "    <tr>\n",
       "      <th>100013</th>\n",
       "      <td>2583</td>\n",
       "      <td>Islam in Turkey</td>\n",
       "      <td>elif74</td>\n",
       "      <td>elif74</td>\n",
       "      <td>yes, this is very sad. but there are more peop...</td>\n",
       "      <td>2005</td>\n",
       "      <td>3</td>\n",
       "      <td>26</td>\n",
       "      <td>2005-03-26 08:59:00.000</td>\n",
       "      <td>24378</td>\n",
       "      <td>-0.2500</td>\n",
       "      <td>-0.612372</td>\n",
       "      <td>-0.657981</td>\n",
       "    </tr>\n",
       "    <tr>\n",
       "      <th>1000177</th>\n",
       "      <td>533029</td>\n",
       "      <td>Just When You Thought Iran Couldn't Get Any Cr...</td>\n",
       "      <td>troof</td>\n",
       "      <td>troof</td>\n",
       "      <td>&lt;quote&gt;Yasnov, on Oct 26 2008, 02:13 AM, said:...</td>\n",
       "      <td>2008</td>\n",
       "      <td>10</td>\n",
       "      <td>26</td>\n",
       "      <td>2008-10-26 11:04:00.000</td>\n",
       "      <td>993099</td>\n",
       "      <td>-0.1280</td>\n",
       "      <td>-0.250000</td>\n",
       "      <td>-0.993870</td>\n",
       "    </tr>\n",
       "    <tr>\n",
       "      <th>1000246</th>\n",
       "      <td>533029</td>\n",
       "      <td>Just When You Thought Iran Couldn't Get Any Cr...</td>\n",
       "      <td>Yasnov</td>\n",
       "      <td>Yasnov</td>\n",
       "      <td>&lt;quote&gt;troof, on Oct 26 2008, 06:04 PM, said: ...</td>\n",
       "      <td>2008</td>\n",
       "      <td>10</td>\n",
       "      <td>26</td>\n",
       "      <td>2008-10-26 15:08:00.000</td>\n",
       "      <td>993099</td>\n",
       "      <td>-0.1280</td>\n",
       "      <td>0.000000</td>\n",
       "      <td>-0.994138</td>\n",
       "    </tr>\n",
       "    <tr>\n",
       "      <th>100026</th>\n",
       "      <td>10096</td>\n",
       "      <td>What Would You Do, If Someone (opposite)</td>\n",
       "      <td>Teakster</td>\n",
       "      <td>Teakster</td>\n",
       "      <td>Salaam, I would jump in the Teakster mobile an...</td>\n",
       "      <td>2005</td>\n",
       "      <td>3</td>\n",
       "      <td>26</td>\n",
       "      <td>2005-03-26 10:16:00.000</td>\n",
       "      <td>94941</td>\n",
       "      <td>-0.6597</td>\n",
       "      <td>-0.458831</td>\n",
       "      <td>-0.787048</td>\n",
       "    </tr>\n",
       "  </tbody>\n",
       "</table>\n",
       "</div>"
      ],
      "text/plain": [
       "           ThreadID                                         ThreadName  \\\n",
       "MessageID                                                                \n",
       "1000            240                                     Music in Islam   \n",
       "100013         2583                                    Islam in Turkey   \n",
       "1000177      533029  Just When You Thought Iran Couldn't Get Any Cr...   \n",
       "1000246      533029  Just When You Thought Iran Couldn't Get Any Cr...   \n",
       "100026        10096           What Would You Do, If Someone (opposite)   \n",
       "\n",
       "           MemberID MemberName  \\\n",
       "MessageID                        \n",
       "1000       Moustafa   Moustafa   \n",
       "100013       elif74     elif74   \n",
       "1000177       troof      troof   \n",
       "1000246      Yasnov     Yasnov   \n",
       "100026     Teakster   Teakster   \n",
       "\n",
       "                                                     Message  P_Year  P_Month  \\\n",
       "MessageID                                                                       \n",
       "1000       <quote>Quote Assalaamualaikum, Regardless of w...    2004       10   \n",
       "100013     yes, this is very sad. but there are more peop...    2005        3   \n",
       "1000177    <quote>Yasnov, on Oct 26 2008, 02:13 AM, said:...    2008       10   \n",
       "1000246    <quote>troof, on Oct 26 2008, 06:04 PM, said: ...    2008       10   \n",
       "100026     Salaam, I would jump in the Teakster mobile an...    2005        3   \n",
       "\n",
       "           P_Day                   P_Date  ThreadFirstMessageID    NLTK  \\\n",
       "MessageID                                                                 \n",
       "1000          25  2004-10-25 18:22:00.000                   806  0.9246   \n",
       "100013        26  2005-03-26 08:59:00.000                 24378 -0.2500   \n",
       "1000177       26  2008-10-26 11:04:00.000                993099 -0.1280   \n",
       "1000246       26  2008-10-26 15:08:00.000                993099 -0.1280   \n",
       "100026        26  2005-03-26 10:16:00.000                 94941 -0.6597   \n",
       "\n",
       "           SentiStrength  AllenNLP  \n",
       "MessageID                           \n",
       "1000            0.458831 -0.072225  \n",
       "100013         -0.612372 -0.657981  \n",
       "1000177        -0.250000 -0.993870  \n",
       "1000246         0.000000 -0.994138  \n",
       "100026         -0.458831 -0.787048  "
      ]
     },
     "execution_count": 5,
     "metadata": {},
     "output_type": "execute_result"
    }
   ],
   "source": [
    "data.head()"
   ]
  },
  {
   "cell_type": "markdown",
   "metadata": {},
   "source": [
    "# Cluster Members"
   ]
  },
  {
   "cell_type": "code",
   "execution_count": 6,
   "metadata": {},
   "outputs": [],
   "source": [
    "members = list(data[\"MemberID\"].unique())\n",
    "threads = list(data[\"ThreadID\"].unique())"
   ]
  },
  {
   "cell_type": "code",
   "execution_count": 7,
   "metadata": {},
   "outputs": [],
   "source": [
    "memberVectors = []\n",
    "threadsVisited = []\n",
    "for i in members:\n",
    "    \n",
    "    thread = data[data[\"MemberID\"] == i][\"ThreadID\"].unique()\n",
    "    #vector = np.zeros(len(threads))\n",
    "    #for i in thread:\n",
    "        #vector[threads.index(i)] +=1\n",
    "    \n",
    "    memberVectors.append(thread)\n",
    "    threadsVisited.append(len(thread))"
   ]
  },
  {
   "cell_type": "code",
   "execution_count": 8,
   "metadata": {},
   "outputs": [],
   "source": [
    "matrix = getDistanceMatrix(memberVectors)"
   ]
  },
  {
   "cell_type": "code",
   "execution_count": null,
   "metadata": {},
   "outputs": [],
   "source": [
    "sentiment = []\n",
    "\n",
    "for i in members:\n",
    "    \n",
    "     sentiment.append(np.mean(data[data[\"MemberID\"] == i][\"AllenNLP\"]))"
   ]
  },
  {
   "cell_type": "code",
   "execution_count": null,
   "metadata": {},
   "outputs": [],
   "source": [
    "dt = [('len', float)]\n",
    "A = np.array(matrix)\n",
    "A = A.view(dt)\n",
    "\n",
    "G = nx.DiGraph(np.array(A))\n",
    "\n",
    "plt.figure(figsize = (12,6))\n",
    "pos = nx.drawing.nx_agraph.graphviz_layout(G, prog='neato')\n",
    "G.remove_edges_from(list(G.edges()))\n"
   ]
  },
  {
   "cell_type": "code",
   "execution_count": null,
   "metadata": {},
   "outputs": [],
   "source": [
    "nx.drawing.nx_pylab.draw_networkx(G,pos=pos,node_size = 100,alpha = 1,with_labels=False)"
   ]
  },
  {
   "cell_type": "code",
   "execution_count": null,
   "metadata": {},
   "outputs": [],
   "source": [
    "plt.figure(figsize = (8,8))\n",
    "nx.drawing.nx_pylab.draw_networkx(G,pos=pos,node_size = 100,alpha = 1,with_labels=False, node_color = sentiment, cmap = \"RdYlGn\")\n"
   ]
  },
  {
   "cell_type": "code",
   "execution_count": null,
   "metadata": {},
   "outputs": [],
   "source": [
    "plt.figure(figsize = (8,5))\n",
    "plt.hist(np.array(threadsVisited), bins = 25, weights=100*np.ones(len(threadsVisited)) / len(threadsVisited))\n",
    "plt.xlabel(\"Threads Visited\")\n",
    "plt.ylabel(\"Percentage\")\n",
    "print(\"Median = \" + str(np.median(threadsVisited)))"
   ]
  },
  {
   "cell_type": "markdown",
   "metadata": {},
   "source": [
    "# Look at active members"
   ]
  },
  {
   "cell_type": "code",
   "execution_count": null,
   "metadata": {},
   "outputs": [],
   "source": [
    "np.percentile(threadsVisited, 95) "
   ]
  },
  {
   "cell_type": "code",
   "execution_count": null,
   "metadata": {},
   "outputs": [],
   "source": [
    "active = np.array(members)[np.array(threadsVisited) >= 70]"
   ]
  },
  {
   "cell_type": "code",
   "execution_count": null,
   "metadata": {},
   "outputs": [],
   "source": [
    "activeVectors = []\n",
    "for i in active:\n",
    "    thread = data[data[\"MemberID\"] == i][\"ThreadID\"].unique()\n",
    "    activeVectors.append(thread)\n",
    "    "
   ]
  },
  {
   "cell_type": "code",
   "execution_count": null,
   "metadata": {},
   "outputs": [],
   "source": [
    "activeMatrix = getDistanceMatrix(activeVectors)"
   ]
  },
  {
   "cell_type": "code",
   "execution_count": null,
   "metadata": {},
   "outputs": [],
   "source": [
    "dt = [('len', float)]\n",
    "A = np.array(activeMatrix)\n",
    "A = A.view(dt)\n",
    "\n",
    "Gactive = nx.from_numpy_matrix(np.array(A))\n",
    "\n",
    "plt.figure(figsize = (12,6))\n",
    "posActive = nx.drawing.nx_agraph.graphviz_layout(Gactive, prog='neato')\n",
    "Gactive.remove_edges_from(list(Gactive.edges()))"
   ]
  },
  {
   "cell_type": "code",
   "execution_count": null,
   "metadata": {},
   "outputs": [],
   "source": [
    "nx.drawing.nx_pylab.draw_networkx(Gactive,pos=posActive,node_size = 100,alpha = 1,with_labels=False)"
   ]
  },
  {
   "cell_type": "markdown",
   "metadata": {},
   "source": [
    "# Cluster Threads"
   ]
  },
  {
   "cell_type": "code",
   "execution_count": null,
   "metadata": {},
   "outputs": [],
   "source": [
    "threadVectors = []\n",
    "threadMembers = []\n",
    "for i in threads:\n",
    "    \n",
    "    member = data[data[\"ThreadID\"] == i][\"MemberID\"].unique()\n",
    "    #vector = np.zeros(len(members))\n",
    "    #for i in member:\n",
    "        #vector[members.index(i)] +=1\n",
    "    \n",
    "    threadVectors.append(member)\n",
    "    threadMembers.append(len(member))"
   ]
  },
  {
   "cell_type": "code",
   "execution_count": null,
   "metadata": {},
   "outputs": [],
   "source": [
    "threadSentiment = []\n",
    "\n",
    "for i in threads:\n",
    "    \n",
    "     threadSentiment.append(np.mean(data[data[\"ThreadID\"] == i][\"AllenNLP\"]))"
   ]
  },
  {
   "cell_type": "code",
   "execution_count": null,
   "metadata": {},
   "outputs": [],
   "source": [
    "threadMatrix = getDistanceMatrix(threadVectors)"
   ]
  },
  {
   "cell_type": "code",
   "execution_count": null,
   "metadata": {},
   "outputs": [],
   "source": [
    "dt = [('len', float)]\n",
    "A = np.array(threadMatrix)\n",
    "A = A.view(dt)\n",
    "\n",
    "Gthread = nx.from_numpy_matrix(np.array(A))\n",
    "\n",
    "threadPos = nx.drawing.nx_agraph.graphviz_layout(Gthread, prog='neato')\n",
    "Gthread.remove_edges_from(list(Gthread.edges()))\n"
   ]
  },
  {
   "cell_type": "code",
   "execution_count": null,
   "metadata": {},
   "outputs": [],
   "source": [
    "plt.figure(figsize = (12,6))\n",
    "nx.drawing.nx_pylab.draw_networkx(Gthread,pos=pos,node_size = 100,alpha = 1,with_labels=False)"
   ]
  },
  {
   "cell_type": "code",
   "execution_count": null,
   "metadata": {},
   "outputs": [],
   "source": [
    "plt.figure(figsize = (8,8))\n",
    "nx.drawing.nx_pylab.draw_networkx(Gthread,pos=pos,node_size = 100,alpha = 1,with_labels=False, node_color = threadSentiment, cmap = \"RdYlGn\")\n"
   ]
  },
  {
   "cell_type": "code",
   "execution_count": null,
   "metadata": {},
   "outputs": [],
   "source": [
    "plt.figure(figsize = (8,5))\n",
    "plt.hist(np.array(threadMembers), bins = 25, weights=100*np.ones(len(threadMembers)) / len(threadMembers))\n",
    "plt.xlabel(\"Threads Visited\")\n",
    "plt.ylabel(\"Percentage\")\n",
    "print(\"Median = \" + str(np.median(threadMembers)))"
   ]
  },
  {
   "cell_type": "code",
   "execution_count": null,
   "metadata": {},
   "outputs": [],
   "source": []
  }
 ],
 "metadata": {
  "kernelspec": {
   "display_name": "Python 3 (ipykernel)",
   "language": "python",
   "name": "python3"
  },
  "language_info": {
   "codemirror_mode": {
    "name": "ipython",
    "version": 3
   },
   "file_extension": ".py",
   "mimetype": "text/x-python",
   "name": "python",
   "nbconvert_exporter": "python",
   "pygments_lexer": "ipython3",
   "version": "3.10.10"
  }
 },
 "nbformat": 4,
 "nbformat_minor": 2
}
