{
 "cells": [
  {
   "cell_type": "code",
   "execution_count": 1,
   "metadata": {},
   "outputs": [],
   "source": [
    "import allennlp_models\n",
    "from allennlp_models.classification import biattentive_classification_network\n",
    "from allennlp.predictors.predictor import Predictor\n",
    "from allennlp.predictors.text_classifier import TextClassifierPredictor\n",
    "import allennlp_models.tagging\n",
    "from allennlp_models.classification.dataset_readers.stanford_sentiment_tree_bank import StanfordSentimentTreeBankDatasetReader\n"
   ]
  },
  {
   "cell_type": "code",
   "execution_count": 2,
   "metadata": {},
   "outputs": [],
   "source": [
    "import numpy as np\n",
    "import pandas as pd\n",
    "import nltk\n",
    "from nltk.corpus import stopwords\n",
    "from collections import Counter\n",
    "import re\n",
    "from textblob import TextBlob\n",
    "import spacy"
   ]
  },
  {
   "cell_type": "code",
   "execution_count": 3,
   "metadata": {},
   "outputs": [],
   "source": [
    "predictor = Predictor.from_path(\"https://storage.googleapis.com/allennlp-public-models/stanford-sentiment-treebank-roberta.2021-03-11.tar.gz\")\n"
   ]
  },
  {
   "cell_type": "code",
   "execution_count": 12,
   "metadata": {},
   "outputs": [],
   "source": [
    "def useAllen(comment):\n",
    "    messages = comment.split(\".\")\n",
    "    messages = [x for x in messages if x]\n",
    "    #messages = cleanData(pd.Series(messages))\n",
    "    scores = []\n",
    "    \n",
    "    for message in messages:\n",
    "        prediction = predictor.predict(message)\n",
    "        score = (int(prediction[\"label\"]) * 2 - 1) * max(prediction[\"probs\"])\n",
    "        scores.append(score)\n",
    "    return np.mean(scores)\n"
   ]
  },
  {
   "cell_type": "code",
   "execution_count": 5,
   "metadata": {},
   "outputs": [],
   "source": [
    "def is_ascii(s):\n",
    "    return all(ord(c) < 128 for c in s)\n",
    "\n",
    "nlp = spacy.load(\"en_core_web_sm\")\n",
    "def cleanData(messages):\n",
    "    for i in range(0,len(messages)):\n",
    "        try:\n",
    "            doc = nlp(messages.iloc[i])\n",
    "            token_list = [token for token in doc]\n",
    "            filtered_tokens = [token for token in doc if not token.is_stop]\n",
    "            lemmas = [token.lemma_ for token in filtered_tokens]\n",
    "            s = ' '.join(lemmas)\n",
    "            \n",
    "            messages.iloc[i] = re.sub(r'\\W+', ' ', s)\n",
    "        except:\n",
    "            messages.iloc[i] = \"\"\n",
    "        \n",
    "        #if is_ascii(messages.iloc[i]) == False:\n",
    "            # messages.iloc[i] = \"\"\n",
    "\n",
    "    return messages"
   ]
  },
  {
   "cell_type": "code",
   "execution_count": 11,
   "metadata": {},
   "outputs": [
    {
     "data": {
      "text/plain": [
       "-0.646711528301239"
      ]
     },
     "execution_count": 11,
     "metadata": {},
     "output_type": "execute_result"
    }
   ],
   "source": [
    "useAllen(\"I hate him...\")"
   ]
  },
  {
   "cell_type": "code",
   "execution_count": 6,
   "metadata": {},
   "outputs": [],
   "source": [
    "#Load Data\n",
    "#data = pd.read_csv(\"GawaherClean.csv\", index_col=0)\n",
    "data = pd.read_csv(\"CleanData/Ansar1Clean.csv\", index_col=0)\n",
    "\n",
    "#Get thread\n",
    "threads = data[\"ThreadID\"].unique()\n",
    "thread = data[data[\"ThreadID\"]== threads[0]]\n",
    "thread = thread.reset_index(drop = True)\n",
    "\n",
    "#get all messages\n",
    "messages = thread[\"Message\"].copy()\n",
    "\n"
   ]
  },
  {
   "cell_type": "code",
   "execution_count": 13,
   "metadata": {},
   "outputs": [
    {
     "data": {
      "text/plain": [
       "0.058335334062576294"
      ]
     },
     "execution_count": 13,
     "metadata": {},
     "output_type": "execute_result"
    }
   ],
   "source": [
    "useAllen(\"One German soldier killed and nine others wounded in two attacks: Quote: German soldier killed in Afghanistan 1 hour ago A German soldier was killed during an attack on a patrol in Afghanistan on Wednesday as Foreign Minister Frank-Walter Steinmeier held talks with the nation's leader in Kabul. Four other German soldiers were lightly wounded when a patrol came under fire northwest of Kunduz, the Defense Ministry said. No further information was immediately available. Earlier in the day, Steinmeier arrived for a previously unannounced two-day tour that included a meeting with Afghan President Hamid Karzai, his foreign and interior ministers, and international representatives in Afghanistan. Shortly afterward, a bomber lightly injured five German soldiers in a separate attack, also near Kunduz. Steinmeier insisted that Germany would not allow the attacks to deter it from carrying out its mission in the Central Asian nation. Some 3,750 German troops are stationed in Afghanistan, where they serve in the relatively peaceful north. The Associated Press\")"
   ]
  },
  {
   "cell_type": "code",
   "execution_count": 10,
   "metadata": {},
   "outputs": [
    {
     "data": {
      "text/plain": [
       "'Afghanistan defense News 07/08/09 : DoD Identifies Army Casualty Spc. Christopher M. Talbert, 24, of Galesburg, Ill., died July 7 in Shindad, Afghanistan, of wounds suffered when an improvised explosive device detonated near his vehicle. He was assigned to the 2nd Battalion, 130th Infantry Regiment... 07/08/09 : DoD Identifies Army Casualty Pfc. Nicolas H. J. Gideon, 20, of Murrieta, Calif., died July 6 at Forward Operating Base Salerno, Afghanistan, of injuries suffered earlier that day in Paktya, Afghanistan, when insurgents attacked his unit using small arms... 07/08/09 : DoD Identifies Army Casualty Capt. Mark A. Garner, 30, of North Carolina, died July 6 in Argandab District, Afghanistan, of wounds suffered when an improvised explosive device detonated near his vehicle. He was assigned to the 1st Battalion, 4th Infantry Regiment... 07/08/09 : DoD Identifies Army Casualties (4 of 4) Spc. Issac L. Johnson, 24, of Columbus, Ga. He was assigned to the 1st Battalion, 108th Reconnaissance, Surveillance and Target Acquisition Squadron, Rome, Ga... died July 6 in Konduz, Afghanistan, of wounds suffered when an IED... 07/08/09 : DoD Identifies Army Casualties (3 of 4) Spc. Chester W. Hosford, 35, of Hastings, Minn. He was assigned to the 2nd Battalion, 106th Cavalry Regiment, Dixon, Ill... died July 6 in Konduz, Afghanistan, of wounds suffered when an improvised explosive device detonated near their vehicle. 07/08/09 : DoD Identifies Army Casualties (2 of 4) Sgt. Brock H. Chavers, 25, of Bulloch, Ga. He was assigned to the 2nd Battalion, 121st Infantry Regiment, Americus, Ga... died July 6 in Konduz, Afghanistan, of wounds suffered when an improvised explosive device detonated near their vehicle. 07/08/09 : DoD Identifies Army Casualties (1 of 4) 2nd Lt. Derwin I. Williams, 41, of Glenwood, Ill. He was assigned to the 2nd Battalion, 106th Cavalry Regiment, Dixon, Ill... died July 6 in Konduz, Afghanistan, of wounds suffered when an improvised explosive device detonated near their vehicle. 07/08/09 AAP: Two Australian soldiers injured in Afghanistan Two Australian soldiers have been wounded in Afghanistan after their vehicle was hit by a large roadside bomb, defence says. The diggers were travelling in an armoured truck when it was struck by the bomb on Tuesday afternoon Australian time.'"
      ]
     },
     "execution_count": 10,
     "metadata": {},
     "output_type": "execute_result"
    }
   ],
   "source": [
    "messages.iloc[98]"
   ]
  },
  {
   "cell_type": "code",
   "execution_count": null,
   "metadata": {},
   "outputs": [],
   "source": []
  }
 ],
 "metadata": {
  "kernelspec": {
   "display_name": "Python 3 (ipykernel)",
   "language": "python",
   "name": "python3"
  },
  "language_info": {
   "codemirror_mode": {
    "name": "ipython",
    "version": 3
   },
   "file_extension": ".py",
   "mimetype": "text/x-python",
   "name": "python",
   "nbconvert_exporter": "python",
   "pygments_lexer": "ipython3",
   "version": "3.9.7"
  }
 },
 "nbformat": 4,
 "nbformat_minor": 2
}
