{
 "cells": [
  {
   "cell_type": "code",
   "execution_count": 1,
   "metadata": {},
   "outputs": [],
   "source": [
    "import numpy as np\n",
    "import matplotlib.pyplot as plt\n",
    "import networkx as nx\n",
    "import pandas as pd\n",
    "import nltk\n",
    "from nltk.corpus import stopwords\n",
    "from collections import Counter\n",
    "import re\n",
    "from sklearn.feature_extraction.text import TfidfVectorizer\n",
    "from textblob import TextBlob\n",
    "from nltk.sentiment import SentimentIntensityAnalyzer\n",
    "import spacy\n",
    "import datetime\n",
    "import ssl\n",
    "from matplotlib.ticker import PercentFormatter\n",
    "import plotly.graph_objects as go"
   ]
  },
  {
   "cell_type": "code",
   "execution_count": 2,
   "metadata": {},
   "outputs": [],
   "source": [
    "def convertDate(date):\n",
    "    dates = date.split(\"-\")\n",
    "    convert = datetime.date(int(dates[0]), int(dates[1]), int(dates[2]))\n",
    "    return convert"
   ]
  },
  {
   "cell_type": "code",
   "execution_count": 3,
   "metadata": {},
   "outputs": [],
   "source": [
    "def connectivity(edgeSentiments):\n",
    "    posPos = 0\n",
    "    negNeg = 0\n",
    "    posNeg = 0\n",
    "\n",
    "    for pair in edgeSentiments:\n",
    "        if np.sign(pair[0]) == np.sign(pair[1]) and np.sign(pair[0]) == 1:\n",
    "            posPos += 1\n",
    "        elif np.sign(pair[0]) == np.sign(pair[1]) and np.sign(pair[0]) == -1:\n",
    "            negNeg += 1\n",
    "        elif np.sign(pair[0]) != np.sign(pair[1]) and pair[0] != 0 and pair[1] != 0:\n",
    "            posNeg += 1\n",
    "    return posPos,negNeg, posNeg\n",
    "\n",
    "def rawConnectivity(edgeSentiments):\n",
    "    connections = []\n",
    "    for pair in edgeSentiments:\n",
    "        if np.sign(pair[0]) != 0 and np.sign(pair[1]) != 0:\n",
    "            connections.append([np.sign(pair[0]),np.sign(pair[1])])\n",
    "    return connections\n",
    "    \n",
    "    \n",
    "    "
   ]
  },
  {
   "cell_type": "markdown",
   "metadata": {},
   "source": [
    "# Look at data"
   ]
  },
  {
   "cell_type": "code",
   "execution_count": 4,
   "metadata": {},
   "outputs": [],
   "source": [
    "#Load Data\n",
    "data = pd.read_csv(\"GawaherSentiment.csv\", index_col=0)\n",
    "threads = data[\"ThreadID\"].unique()"
   ]
  },
  {
   "cell_type": "code",
   "execution_count": 5,
   "metadata": {},
   "outputs": [
    {
     "data": {
      "text/html": [
       "<div>\n",
       "<style scoped>\n",
       "    .dataframe tbody tr th:only-of-type {\n",
       "        vertical-align: middle;\n",
       "    }\n",
       "\n",
       "    .dataframe tbody tr th {\n",
       "        vertical-align: top;\n",
       "    }\n",
       "\n",
       "    .dataframe thead th {\n",
       "        text-align: right;\n",
       "    }\n",
       "</style>\n",
       "<table border=\"1\" class=\"dataframe\">\n",
       "  <thead>\n",
       "    <tr style=\"text-align: right;\">\n",
       "      <th></th>\n",
       "      <th>MessageID</th>\n",
       "      <th>ThreadID</th>\n",
       "      <th>ThreadName</th>\n",
       "      <th>MemberID</th>\n",
       "      <th>MemberName</th>\n",
       "      <th>Message</th>\n",
       "      <th>P_Year</th>\n",
       "      <th>P_Month</th>\n",
       "      <th>P_Day</th>\n",
       "      <th>P_Date</th>\n",
       "      <th>ThreadFirstMessageID</th>\n",
       "      <th>NLTK</th>\n",
       "      <th>SentiStrength</th>\n",
       "      <th>AllenNLP</th>\n",
       "    </tr>\n",
       "  </thead>\n",
       "  <tbody>\n",
       "    <tr>\n",
       "      <th>0</th>\n",
       "      <td>1000</td>\n",
       "      <td>240</td>\n",
       "      <td>Music in Islam</td>\n",
       "      <td>Moustafa</td>\n",
       "      <td>Moustafa</td>\n",
       "      <td>&lt;quote&gt;Quote Assalaamualaikum, Regardless of w...</td>\n",
       "      <td>2004</td>\n",
       "      <td>10</td>\n",
       "      <td>25</td>\n",
       "      <td>2004-10-25 18:22:00.000</td>\n",
       "      <td>806</td>\n",
       "      <td>0.9246</td>\n",
       "      <td>0.458831</td>\n",
       "      <td>-0.072225</td>\n",
       "    </tr>\n",
       "    <tr>\n",
       "      <th>77</th>\n",
       "      <td>1003</td>\n",
       "      <td>240</td>\n",
       "      <td>Music in Islam</td>\n",
       "      <td>Paki Brother</td>\n",
       "      <td>Paki Brother</td>\n",
       "      <td>Like I was saying brother,  That is what is en...</td>\n",
       "      <td>2004</td>\n",
       "      <td>10</td>\n",
       "      <td>25</td>\n",
       "      <td>2004-10-25 18:25:00.000</td>\n",
       "      <td>806</td>\n",
       "      <td>0.3612</td>\n",
       "      <td>0.250000</td>\n",
       "      <td>-0.973983</td>\n",
       "    </tr>\n",
       "    <tr>\n",
       "      <th>33898</th>\n",
       "      <td>1509</td>\n",
       "      <td>240</td>\n",
       "      <td>Music in Islam</td>\n",
       "      <td>Guest_Sulemaan_*</td>\n",
       "      <td>Guest_Sulemaan_*</td>\n",
       "      <td>My Deaer Moustafa, You are missing a major poi...</td>\n",
       "      <td>2004</td>\n",
       "      <td>10</td>\n",
       "      <td>26</td>\n",
       "      <td>2004-10-26 07:17:00.000</td>\n",
       "      <td>806</td>\n",
       "      <td>0.4215</td>\n",
       "      <td>-0.612372</td>\n",
       "      <td>-0.039299</td>\n",
       "    </tr>\n",
       "    <tr>\n",
       "      <th>33998</th>\n",
       "      <td>1516</td>\n",
       "      <td>240</td>\n",
       "      <td>Music in Islam</td>\n",
       "      <td>Guest_Sulemaan_*</td>\n",
       "      <td>Guest_Sulemaan_*</td>\n",
       "      <td>&lt;quote&gt;Moustafa, on Oct 25 2004, 09:22 PM, sai...</td>\n",
       "      <td>2004</td>\n",
       "      <td>10</td>\n",
       "      <td>26</td>\n",
       "      <td>2004-10-26 07:24:00.000</td>\n",
       "      <td>806</td>\n",
       "      <td>0.9287</td>\n",
       "      <td>0.458831</td>\n",
       "      <td>-0.066808</td>\n",
       "    </tr>\n",
       "    <tr>\n",
       "      <th>34023</th>\n",
       "      <td>1517</td>\n",
       "      <td>240</td>\n",
       "      <td>Music in Islam</td>\n",
       "      <td>Crystal Eyes</td>\n",
       "      <td>Crystal Eyes</td>\n",
       "      <td>applauds for sulemaan!! honestly why there is ...</td>\n",
       "      <td>2004</td>\n",
       "      <td>10</td>\n",
       "      <td>26</td>\n",
       "      <td>2004-10-26 07:30:00.000</td>\n",
       "      <td>806</td>\n",
       "      <td>0.8316</td>\n",
       "      <td>0.790569</td>\n",
       "      <td>0.184105</td>\n",
       "    </tr>\n",
       "  </tbody>\n",
       "</table>\n",
       "</div>"
      ],
      "text/plain": [
       "       MessageID  ThreadID      ThreadName          MemberID  \\\n",
       "0           1000       240  Music in Islam          Moustafa   \n",
       "77          1003       240  Music in Islam      Paki Brother   \n",
       "33898       1509       240  Music in Islam  Guest_Sulemaan_*   \n",
       "33998       1516       240  Music in Islam  Guest_Sulemaan_*   \n",
       "34023       1517       240  Music in Islam      Crystal Eyes   \n",
       "\n",
       "             MemberName                                            Message  \\\n",
       "0              Moustafa  <quote>Quote Assalaamualaikum, Regardless of w...   \n",
       "77         Paki Brother  Like I was saying brother,  That is what is en...   \n",
       "33898  Guest_Sulemaan_*  My Deaer Moustafa, You are missing a major poi...   \n",
       "33998  Guest_Sulemaan_*  <quote>Moustafa, on Oct 25 2004, 09:22 PM, sai...   \n",
       "34023      Crystal Eyes  applauds for sulemaan!! honestly why there is ...   \n",
       "\n",
       "       P_Year  P_Month  P_Day                   P_Date  ThreadFirstMessageID  \\\n",
       "0        2004       10     25  2004-10-25 18:22:00.000                   806   \n",
       "77       2004       10     25  2004-10-25 18:25:00.000                   806   \n",
       "33898    2004       10     26  2004-10-26 07:17:00.000                   806   \n",
       "33998    2004       10     26  2004-10-26 07:24:00.000                   806   \n",
       "34023    2004       10     26  2004-10-26 07:30:00.000                   806   \n",
       "\n",
       "         NLTK  SentiStrength  AllenNLP  \n",
       "0      0.9246       0.458831 -0.072225  \n",
       "77     0.3612       0.250000 -0.973983  \n",
       "33898  0.4215      -0.612372 -0.039299  \n",
       "33998  0.9287       0.458831 -0.066808  \n",
       "34023  0.8316       0.790569  0.184105  "
      ]
     },
     "execution_count": 5,
     "metadata": {},
     "output_type": "execute_result"
    }
   ],
   "source": [
    "#look at individual threads\n",
    "thread = data[data[\"ThreadID\"]== threads[0]]\n",
    "thread.head()"
   ]
  },
  {
   "cell_type": "markdown",
   "metadata": {},
   "source": [
    "# Get Metrics From All Threads"
   ]
  },
  {
   "cell_type": "code",
   "execution_count": 8,
   "metadata": {},
   "outputs": [
    {
     "name": "stderr",
     "output_type": "stream",
     "text": [
      "/var/folders/fr/03zv9zcj7j146mrr4jsb58kw0000gn/T/ipykernel_49831/59483976.py:25: SettingWithCopyWarning: \n",
      "A value is trying to be set on a copy of a slice from a DataFrame\n",
      "\n",
      "See the caveats in the documentation: https://pandas.pydata.org/pandas-docs/stable/user_guide/indexing.html#returning-a-view-versus-a-copy\n",
      "  thread[\"P_Date\"][i] = convertDate(thread[\"P_Date\"][i][:10])\n",
      "/var/folders/fr/03zv9zcj7j146mrr4jsb58kw0000gn/T/ipykernel_49831/59483976.py:35: SettingWithCopyWarning: \n",
      "A value is trying to be set on a copy of a slice from a DataFrame\n",
      "\n",
      "See the caveats in the documentation: https://pandas.pydata.org/pandas-docs/stable/user_guide/indexing.html#returning-a-view-versus-a-copy\n",
      "  thread[\"MemberID\"][thread[\"MemberID\"] == members[i]] = str(index)\n",
      "/Library/Frameworks/Python.framework/Versions/3.9/lib/python3.9/site-packages/networkx/algorithms/centrality/current_flow_closeness.py:95: RuntimeWarning: divide by zero encountered in double_scalars\n",
      "  betweenness[v] = 1.0 / (betweenness[v])\n"
     ]
    }
   ],
   "source": [
    "#Load Data\n",
    "data = pd.read_csv(\"GawaherSentiment.csv\", index_col=0)\n",
    "threads = data[\"ThreadID\"].unique()\n",
    "\n",
    "meanSentiment = []\n",
    "posterSentiment = []\n",
    "posterCentrality = []\n",
    "numPosterPosts = []\n",
    "numMembers = []\n",
    "numPosts = []\n",
    "allConnection = []\n",
    "uniqueConnection = []\n",
    "rawConnections = []\n",
    "rawUniqueConnections = []\n",
    "\n",
    "for num in range(0,len(threads)):\n",
    "    thread = data[data[\"ThreadID\"]== threads[num]]\n",
    "    thread = thread.reset_index(drop = True)\n",
    "\n",
    "    #get all messages\n",
    "    messages = thread[\"Message\"].copy()\n",
    "    \n",
    "    #sort by datetime\n",
    "    for i in range(0,len(thread)):\n",
    "        thread[\"P_Date\"][i] = convertDate(thread[\"P_Date\"][i][:10])\n",
    "    thread = thread.sort_values(by = [\"P_Date\",'MessageID'])\n",
    "    \n",
    "    #Encode non-numerical members\n",
    "    index = -1\n",
    "    members = thread[\"MemberID\"].unique()\n",
    "    for i in range(0,len(members)):\n",
    "        try:\n",
    "            int(members[i])\n",
    "        except:\n",
    "            thread[\"MemberID\"][thread[\"MemberID\"] == members[i]] = str(index)\n",
    "            members[i] = str(index)\n",
    "            index -= 1\n",
    "    \n",
    "    memberSentiments = []\n",
    "    memberCommnets = []\n",
    "    for i in members:\n",
    "        memberCommnets.append(len(thread[thread[\"MemberID\"] == i]))\n",
    "        memberSentiments.append(np.mean(thread[thread[\"MemberID\"] == i][\"AllenNLP\"]))\n",
    "                                \n",
    "              \n",
    "    #Make graph\n",
    "    #Make dictionary of nodes (members) with corresponding mean sentiment of that member\n",
    "    nodes = np.array(members,dtype = int)\n",
    "    nodeDict = dict(zip(nodes,np.around(memberSentiments,4)))\n",
    "    \n",
    "    edges = []\n",
    "    for i in range(0,len(thread)-1):\n",
    "        if thread[\"MemberID\"].iloc[i] != thread[\"MemberID\"].iloc[i +1]:\n",
    "            edge = (tuple([int(thread[\"MemberID\"].iloc[i]),int(thread[\"MemberID\"].iloc[i+1])]))\n",
    "            edges.append(edge)\n",
    "    \n",
    "    sortEdges = [np.sort(x) for x in edges]\n",
    "    edgeKeys = np.unique(sortEdges,axis=0)\n",
    "    edgeValues = []\n",
    "\n",
    "    for i in range(0,len(edgeKeys)):\n",
    "        count = 0\n",
    "        for j in range(0,len(sortEdges)):\n",
    "            count += np.array_equal(sortEdges[j],edgeKeys[i])\n",
    "        edgeValues.append(count)\n",
    "\n",
    "    edgeKeys=[tuple(edgeKeys.tolist()[x]) for x in range(0,len(edgeKeys))]\n",
    "    edgeDict = dict(zip(edgeKeys,edgeValues))\n",
    "    \n",
    "    G = nx.Graph()\n",
    "    G.add_nodes_from(nodes)\n",
    "    G.add_edges_from(edges)\n",
    "    #Get central tendency\n",
    "    infoCentrality = nx.information_centrality(G)\n",
    "    \n",
    "    try:\n",
    "        #Get all interacts between members also unique interactions between members (remove multiple replies)\n",
    "        flatEdges = np.concatenate(edges)\n",
    "        flatSentiments = np.array([nodeDict[x] for x in flatEdges])\n",
    "        edgeSentiments = np.sort(flatSentiments.reshape(-1,2))\n",
    "        uniqueSentiments = np.unique(np.sort(edgeSentiments),axis = 0)\n",
    "\n",
    "        #Store metrics\n",
    "        allConnection.append(list(connectivity(edgeSentiments))) \n",
    "        uniqueConnection.append(list(connectivity(uniqueSentiments)))\n",
    "        \n",
    "        rawConnections.append(rawConnectivity(edgeSentiments))\n",
    "        rawUniqueConnections.append(rawConnectivity(uniqueSentiments))\n",
    "        \n",
    "        meanSentiment.append(np.mean(thread[\"AllenNLP\"]))\n",
    "        numPosts.append(len(messages))\n",
    "        posterSentiment.append(memberSentiments[0])  \n",
    "        posterCentrality.append(infoCentrality)\n",
    "        numPosterPosts.append(len(thread[thread[\"MemberID\"] == members[0]]))\n",
    "        numMembers.append(len(members))\n",
    "    except:\n",
    "        pass"
   ]
  },
  {
   "cell_type": "markdown",
   "metadata": {},
   "source": [
    "# Statistics"
   ]
  },
  {
   "cell_type": "code",
   "execution_count": 9,
   "metadata": {},
   "outputs": [],
   "source": [
    "statistics = pd.DataFrame(np.array([posterSentiment, posterCentrality,numPosterPosts, meanSentiment, numPosts, numMembers]).T,\n",
    "                          columns = [\"posterSentiment\", \"posterCentrality\", \"numPosterPosts\", \"meanSentiment\", \"numPosts\", \"numMembers\"])\n",
    "\n"
   ]
  },
  {
   "cell_type": "code",
   "execution_count": 10,
   "metadata": {},
   "outputs": [
    {
     "data": {
      "image/png": "[encoded data removed]",
      "text/plain": [
       "<Figure size 864x432 with 2 Axes>"
      ]
     },
     "metadata": {
      "needs_background": "light"
     },
     "output_type": "display_data"
    }
   ],
   "source": [
    "font = 16\n",
    "tick = 12\n",
    "\n",
    "plt.figure(figsize = (12,6))\n",
    "\n",
    "plt.subplot(1,2,2)\n",
    "plot1 = plt.bar([\"Positive-Positive\",\"Negative-Negative\",\"Positive-Negative\"],\n",
    "        (np.sum(allConnection, axis = 0)/np.sum(np.sum(allConnection, axis = 0))))\n",
    "plt.title(\"Weighted Contact\", fontsize = font)\n",
    "plt.ylabel(\"Percentage of Total Connections\", fontsize = font)\n",
    "plt.xlabel(\"Type of Connection\", fontsize = font)\n",
    "plt.bar_label(plot1,np.around(np.sum(allConnection, axis = 0)*100/np.sum(np.sum(allConnection, axis = 0)),2))\n",
    "plt.gca().yaxis.set_major_formatter(PercentFormatter(1))\n",
    "plt.xticks(fontsize=tick)\n",
    "plt.yticks(fontsize=tick)\n",
    "\n",
    "plt.subplot(1,2,1)\n",
    "plot2 = plt.bar([\"Positive-Positive\",\"Negative-Negative\",\"Positive-Negative\"],\n",
    "       (np.sum(uniqueConnection, axis = 0 )/np.sum(np.sum(uniqueConnection, axis = 0 ))))\n",
    "plt.title(\"Unweighted Contact\", fontsize = font)\n",
    "plt.ylabel(\"Percentage of Total Connections\", fontsize = font)\n",
    "plt.xlabel(\"Type of Connection\", fontsize = font)\n",
    "plt.bar_label(plot2,np.around(np.sum(uniqueConnection, axis = 0)*100/np.sum(np.sum(uniqueConnection, axis = 0)),2))\n",
    "plt.gca().yaxis.set_major_formatter(PercentFormatter(1))\n",
    "plt.tight_layout()\n",
    "plt.xticks(fontsize=tick)\n",
    "plt.yticks(fontsize=tick);\n",
    "\n",
    "plt.savefig(\"intraThread.png\")"
   ]
  },
  {
   "cell_type": "code",
   "execution_count": 24,
   "metadata": {},
   "outputs": [
    {
     "data": {
      "image/png": "[encoded data removed]",
      "text/plain": [
       "<Figure size 720x432 with 1 Axes>"
      ]
     },
     "metadata": {
      "needs_background": "light"
     },
     "output_type": "display_data"
    }
   ],
   "source": [
    "plt.figure(figsize = (10,6))\n",
    "plt.hist(statistics[\"numPosterPosts\"], bins = 25)#/statistics[\"numPosts\"], bins = 25)\n",
    "plt.title(\"Percentage of Posts Made by OP\",fontsize = font)\n",
    "plt.ylabel(\"Percentage of Posts\",fontsize = font)\n",
    "plt.xlabel(\"Poster Number\",fontsize = font)\n",
    "plt.xticks(fontsize=tick)\n",
    "plt.yticks(fontsize=tick)\n",
    "plt.gca().yaxis.set_major_formatter(PercentFormatter(xmax = len(statistics)));"
   ]
  },
  {
   "cell_type": "code",
   "execution_count": 12,
   "metadata": {},
   "outputs": [
    {
     "data": {
      "image/png": "[encoded data removed]",
      "text/plain": [
       "<Figure size 720x432 with 1 Axes>"
      ]
     },
     "metadata": {
      "needs_background": "light"
     },
     "output_type": "display_data"
    }
   ],
   "source": [
    "diff = statistics[\"posterSentiment\"]-statistics[\"meanSentiment\"]\n",
    "\n",
    "plt.figure(figsize = (10,6))\n",
    "plt.hist(diff, bins = 25)\n",
    "plt.gca().yaxis.set_major_formatter(PercentFormatter(xmax = len(diff)))\n",
    "plt.title(\"Difference Between Post Sentiment and Original Poster Sentiment\", fontsize = font)\n",
    "plt.xlabel(\"Difference in Sentiment\", fontsize = font)\n",
    "plt.ylabel(\"Percentage\", fontsize = font);\n",
    "plt.xticks(fontsize=tick)\n",
    "plt.yticks(fontsize=tick);\n",
    "plt.savefig(\"diffSentiment.png\")"
   ]
  },
  {
   "cell_type": "code",
   "execution_count": 13,
   "metadata": {},
   "outputs": [
    {
     "data": {
      "text/plain": [
       "0.003108540921460182"
      ]
     },
     "execution_count": 13,
     "metadata": {},
     "output_type": "execute_result"
    }
   ],
   "source": [
    "np.mean(diff)"
   ]
  },
  {
   "cell_type": "code",
   "execution_count": 14,
   "metadata": {},
   "outputs": [
    {
     "data": {
      "text/plain": [
       "0.28314335047828526"
      ]
     },
     "execution_count": 14,
     "metadata": {},
     "output_type": "execute_result"
    }
   ],
   "source": [
    "np.std(diff)"
   ]
  },
  {
   "cell_type": "markdown",
   "metadata": {},
   "source": [
    "# Centrality "
   ]
  },
  {
   "cell_type": "code",
   "execution_count": 15,
   "metadata": {},
   "outputs": [],
   "source": [
    "centers = []\n",
    "\n",
    "for i in range(0,len(posterCentrality)):\n",
    "    centers.append(max(posterCentrality[i], key=posterCentrality[i].get)) \n",
    "centers = -1*np.array(centers)"
   ]
  },
  {
   "cell_type": "code",
   "execution_count": 16,
   "metadata": {},
   "outputs": [
    {
     "data": {
      "image/png": "[encoded data removed]",
      "text/plain": [
       "<Figure size 576x432 with 1 Axes>"
      ]
     },
     "metadata": {
      "needs_background": "light"
     },
     "output_type": "display_data"
    }
   ],
   "source": [
    "plt.figure(figsize = (8,6))\n",
    "y = plt.hist(np.array(centers),bins = 30,  align='left')\n",
    "plt.gca().yaxis.set_major_formatter(PercentFormatter(xmax = len(centers)))\n",
    "plt.xlabel(\"Number Poster\", fontsize = font)\n",
    "plt.ylabel(\"Percentage of Threads\", fontsize = font)\n",
    "plt.title(\"Distribution of Central Members\", fontsize = font)\n",
    "plt.axvline(x=1, c = \"orange\", label = \"Original Poster\")\n",
    "plt.xticks(fontsize=tick)\n",
    "plt.yticks(fontsize=tick);\n",
    "plt.legend()\n",
    "plt.savefig(\"intraCentrality.png\");"
   ]
  },
  {
   "cell_type": "code",
   "execution_count": null,
   "metadata": {},
   "outputs": [],
   "source": []
  }
 ],
 "metadata": {
  "kernelspec": {
   "display_name": "Python 3 (ipykernel)",
   "language": "python",
   "name": "python3"
  },
  "language_info": {
   "codemirror_mode": {
    "name": "ipython",
    "version": 3
   },
   "file_extension": ".py",
   "mimetype": "text/x-python",
   "name": "python",
   "nbconvert_exporter": "python",
   "pygments_lexer": "ipython3",
   "version": "3.9.7"
  }
 },
 "nbformat": 4,
 "nbformat_minor": 2
}
