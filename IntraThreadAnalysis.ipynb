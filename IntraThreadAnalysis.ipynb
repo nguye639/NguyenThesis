{
 "cells": [
  {
   "cell_type": "code",
   "execution_count": 1,
   "metadata": {},
   "outputs": [],
   "source": [
    "import numpy as np\n",
    "import matplotlib.pyplot as plt\n",
    "import networkx as nx\n",
    "import pandas as pd\n",
    "import nltk\n",
    "from nltk.corpus import stopwords\n",
    "from collections import Counter\n",
    "import re\n",
    "from sklearn.feature_extraction.text import TfidfVectorizer\n",
    "from textblob import TextBlob\n",
    "from nltk.sentiment import SentimentIntensityAnalyzer\n",
    "import spacy\n",
    "import datetime\n",
    "import ssl\n",
    "from matplotlib.ticker import PercentFormatter\n",
    "import plotly.graph_objects as go"
   ]
  },
  {
   "cell_type": "code",
   "execution_count": 2,
   "metadata": {},
   "outputs": [
    {
     "name": "stderr",
     "output_type": "stream",
     "text": [
      "[nltk_data] Downloading package vader_lexicon to\n",
      "[nltk_data]     /Users/lenguyen/nltk_data...\n",
      "[nltk_data]   Package vader_lexicon is already up-to-date!\n"
     ]
    },
    {
     "data": {
      "text/plain": [
       "True"
      ]
     },
     "execution_count": 2,
     "metadata": {},
     "output_type": "execute_result"
    }
   ],
   "source": [
    "try:\n",
    "    _create_unverified_https_context = ssl._create_unverified_context\n",
    "except AttributeError:\n",
    "    pass\n",
    "else:\n",
    "    ssl._create_default_https_context = _create_unverified_https_context\n",
    "\n",
    "nltk.download('vader_lexicon')"
   ]
  },
  {
   "cell_type": "code",
   "execution_count": 3,
   "metadata": {},
   "outputs": [],
   "source": [
    "nlp = spacy.load(\"en_core_web_sm\")\n",
    "def cleanData(messages):\n",
    "    for i in range(0,len(messages)):\n",
    "        try:\n",
    "            doc = nlp(messages.iloc[i])\n",
    "            token_list = [token for token in doc]\n",
    "            filtered_tokens = [token for token in doc if not token.is_stop]\n",
    "            lemmas = [token.lemma_ for token in filtered_tokens]\n",
    "            s = ' '.join(lemmas)\n",
    "            \n",
    "            messages.iloc[i] = s\n",
    "        except:\n",
    "            messages.iloc[i] = \"\"\n",
    "        \n",
    "        #if is_ascii(messages.iloc[i]) == False:\n",
    "             #messages.iloc[i] = \"\"\n",
    "\n",
    "    return messages"
   ]
  },
  {
   "cell_type": "code",
   "execution_count": 4,
   "metadata": {},
   "outputs": [],
   "source": [
    "def getSentiment(message):\n",
    "    return  sia.polarity_scores(message)['compound']\n",
    "\n",
    "def convertDate(date):\n",
    "    dates = date.split(\"-\")\n",
    "    convert = datetime.date(int(dates[0]), int(dates[1]), int(dates[2]))\n",
    "    return convert"
   ]
  },
  {
   "cell_type": "code",
   "execution_count": 5,
   "metadata": {},
   "outputs": [],
   "source": [
    "def connectivity(edgeSentiments):\n",
    "    posPos = 0\n",
    "    negNeg = 0\n",
    "    posNeg = 0\n",
    "\n",
    "    for pair in edgeSentiments:\n",
    "        if np.sign(pair[0]) == np.sign(pair[1]) and np.sign(pair[0]) == 1:\n",
    "            posPos += 1\n",
    "        elif np.sign(pair[0]) == np.sign(pair[1]) and np.sign(pair[0]) == -1:\n",
    "            negNeg += 1\n",
    "        elif np.sign(pair[0]) != np.sign(pair[1]) and pair[0] != 0 and pair[1] != 0:\n",
    "            posNeg += 1\n",
    "    return posPos,negNeg, posNeg\n",
    "\n",
    "def rawConnectivity(edgeSentiments):\n",
    "    connections = []\n",
    "    for pair in edgeSentiments:\n",
    "        if np.sign(pair[0]) != 0 and np.sign(pair[1]) != 0:\n",
    "            connections.append([np.sign(pair[0]),np.sign(pair[1])])\n",
    "    return connections\n",
    "    \n",
    "    \n",
    "    "
   ]
  },
  {
   "cell_type": "markdown",
   "metadata": {},
   "source": [
    "# Get Metrics From All Threads"
   ]
  },
  {
   "cell_type": "code",
   "execution_count": 6,
   "metadata": {},
   "outputs": [
    {
     "name": "stderr",
     "output_type": "stream",
     "text": [
      "/Library/Frameworks/Python.framework/Versions/3.9/lib/python3.9/site-packages/pandas/core/indexing.py:1732: SettingWithCopyWarning: \n",
      "A value is trying to be set on a copy of a slice from a DataFrame\n",
      "\n",
      "See the caveats in the documentation: https://pandas.pydata.org/pandas-docs/stable/user_guide/indexing.html#returning-a-view-versus-a-copy\n",
      "  self._setitem_single_block(indexer, value, name)\n",
      "/var/folders/fr/03zv9zcj7j146mrr4jsb58kw0000gn/T/ipykernel_20402/2892673120.py:36: SettingWithCopyWarning: \n",
      "A value is trying to be set on a copy of a slice from a DataFrame\n",
      "\n",
      "See the caveats in the documentation: https://pandas.pydata.org/pandas-docs/stable/user_guide/indexing.html#returning-a-view-versus-a-copy\n",
      "  thread[\"P_Date\"][i] = convertDate(thread[\"P_Date\"][i][:10])\n",
      "/var/folders/fr/03zv9zcj7j146mrr4jsb58kw0000gn/T/ipykernel_20402/2892673120.py:46: SettingWithCopyWarning: \n",
      "A value is trying to be set on a copy of a slice from a DataFrame\n",
      "\n",
      "See the caveats in the documentation: https://pandas.pydata.org/pandas-docs/stable/user_guide/indexing.html#returning-a-view-versus-a-copy\n",
      "  thread[\"MemberID\"][thread[\"MemberID\"] == members[i]] = str(index)\n",
      "/Library/Frameworks/Python.framework/Versions/3.9/lib/python3.9/site-packages/networkx/algorithms/centrality/current_flow_closeness.py:95: RuntimeWarning: divide by zero encountered in double_scalars\n",
      "  betweenness[v] = 1.0 / (betweenness[v])\n"
     ]
    }
   ],
   "source": [
    "#Load Data\n",
    "data = pd.read_csv(\"CleanData/GawaherClean.csv\", index_col=0)\n",
    "threads = data[\"ThreadID\"].unique()\n",
    "#Load Sentiment analyzer\n",
    "sia = SentimentIntensityAnalyzer()\n",
    "\n",
    "meanSentiment = []\n",
    "posterSentiment = []\n",
    "posterCentrality = []\n",
    "numPosterPosts = []\n",
    "numMembers = []\n",
    "numPosts = []\n",
    "allConnection = []\n",
    "uniqueConnection = []\n",
    "rawConnections = []\n",
    "rawUniqueConnections = []\n",
    "\n",
    "for num in range(0,len(threads)):\n",
    "    thread = data[data[\"ThreadID\"]== threads[num]]\n",
    "    thread = thread.reset_index(drop = True)\n",
    "\n",
    "    #get all messages\n",
    "    messages = thread[\"Message\"].copy()\n",
    "    \n",
    "    #Add sentiment values\n",
    "    thread[\"sentiment\"] = np.zeros(len(thread))\n",
    "\n",
    "    for i in range(0,len(thread)):\n",
    "        try:\n",
    "            thread[\"sentiment\"].iloc[i] = getSentiment(thread.iloc[i][\"Message\"])\n",
    "        except:\n",
    "            pass\n",
    "    \n",
    "    #sort by datetime\n",
    "    for i in range(0,len(thread)):\n",
    "        thread[\"P_Date\"][i] = convertDate(thread[\"P_Date\"][i][:10])\n",
    "    thread = thread.sort_values(by = [\"P_Date\",'﻿MessageID'])\n",
    "    \n",
    "    #Encode non-numerical members\n",
    "    index = -1\n",
    "    members = thread[\"MemberID\"].unique()\n",
    "    for i in range(0,len(members)):\n",
    "        try:\n",
    "            int(members[i])\n",
    "        except:\n",
    "            thread[\"MemberID\"][thread[\"MemberID\"] == members[i]] = str(index)\n",
    "            members[i] = str(index)\n",
    "            index -= 1\n",
    "    \n",
    "    memberSentiments = []\n",
    "    memberCommnets = []\n",
    "    for i in members:\n",
    "        memberCommnets.append(len(thread[thread[\"MemberID\"] == i]))\n",
    "        memberSentiments.append(np.mean(thread[thread[\"MemberID\"] == i][\"sentiment\"]))\n",
    "                                \n",
    "              \n",
    "    #Make graph\n",
    "    #Make dictionary of nodes (members) with corresponding mean sentiment of that member\n",
    "    nodes = np.array(members,dtype = int)\n",
    "    nodeDict = dict(zip(nodes,np.around(memberSentiments,4)))\n",
    "    \n",
    "    edges = []\n",
    "    for i in range(0,len(thread)-1):\n",
    "        if thread[\"MemberID\"].iloc[i] != thread[\"MemberID\"].iloc[i +1]:\n",
    "            edge = (tuple([int(thread[\"MemberID\"].iloc[i]),int(thread[\"MemberID\"].iloc[i+1])]))\n",
    "            edges.append(edge)\n",
    "    \n",
    "    sortEdges = [np.sort(x) for x in edges]\n",
    "    edgeKeys = np.unique(sortEdges,axis=0)\n",
    "    edgeValues = []\n",
    "\n",
    "    for i in range(0,len(edgeKeys)):\n",
    "        count = 0\n",
    "        for j in range(0,len(sortEdges)):\n",
    "            count += np.array_equal(sortEdges[j],edgeKeys[i])\n",
    "        edgeValues.append(count)\n",
    "\n",
    "    edgeKeys=[tuple(edgeKeys.tolist()[x]) for x in range(0,len(edgeKeys))]\n",
    "    edgeDict = dict(zip(edgeKeys,edgeValues))\n",
    "    \n",
    "    G = nx.Graph()\n",
    "    G.add_nodes_from(nodes)\n",
    "    G.add_edges_from(edges)\n",
    "    #Get central tendency\n",
    "    infoCentrality = nx.information_centrality(G)\n",
    "    \n",
    "    try:\n",
    "        #Get all interacts between members also unique interactions between members (remove multiple replies)\n",
    "        flatEdges = np.concatenate(edges)\n",
    "        flatSentiments = np.array([nodeDict[x] for x in flatEdges])\n",
    "        edgeSentiments = np.sort(flatSentiments.reshape(-1,2))\n",
    "        uniqueSentiments = np.unique(np.sort(edgeSentiments),axis = 0)\n",
    "\n",
    "        #Store metrics\n",
    "        allConnection.append(list(connectivity(edgeSentiments))) \n",
    "        uniqueConnection.append(list(connectivity(uniqueSentiments)))\n",
    "        \n",
    "        rawConnections.append(rawConnectivity(edgeSentiments))\n",
    "        rawUniqueConnections.append(rawConnectivity(uniqueSentiments))\n",
    "        \n",
    "        \n",
    "        meanSentiment.append(np.mean(thread[\"sentiment\"]))\n",
    "        numPosts.append(len(messages))\n",
    "        posterSentiment.append(memberSentiments[0])  \n",
    "        posterCentrality.append(infoCentrality)\n",
    "        numPosterPosts.append(len(thread[thread[\"MemberID\"] == members[0]]))\n",
    "        numMembers.append(len(members))\n",
    "    except:\n",
    "        pass"
   ]
  },
  {
   "cell_type": "markdown",
   "metadata": {},
   "source": [
    "# Statistics"
   ]
  },
  {
   "cell_type": "code",
   "execution_count": 7,
   "metadata": {},
   "outputs": [],
   "source": [
    "statistics = pd.DataFrame(np.array([posterSentiment, posterCentrality,numPosterPosts, meanSentiment, numPosts, numMembers]).T,\n",
    "                          columns = [\"posterSentiment\", \"posterCentrality\", \"numPosterPosts\", \"meanSentiment\", \"numPosts\", \"numMembers\"])\n",
    "\n"
   ]
  },
  {
   "cell_type": "code",
   "execution_count": 8,
   "metadata": {},
   "outputs": [
    {
     "data": {
      "image/png": "[encoded data removed]",
      "text/plain": [
       "<Figure size 864x432 with 2 Axes>"
      ]
     },
     "metadata": {
      "needs_background": "light"
     },
     "output_type": "display_data"
    }
   ],
   "source": [
    "font = 16\n",
    "tick = 12\n",
    "\n",
    "plt.figure(figsize = (12,6))\n",
    "\n",
    "plt.subplot(1,2,2)\n",
    "plot1 = plt.bar([\"Positive-Positive\",\"Negative-Negative\",\"Positive-Negative\"],\n",
    "        (np.sum(allConnection, axis = 0)/np.sum(np.sum(allConnection, axis = 0))))\n",
    "plt.title(\"Weighted Contact\", fontsize = font)\n",
    "plt.ylabel(\"Percentage of Total Connections\", fontsize = font)\n",
    "plt.xlabel(\"Type of Connection\", fontsize = font)\n",
    "plt.bar_label(plot1,np.around(np.sum(allConnection, axis = 0)*100/np.sum(np.sum(allConnection, axis = 0)),2))\n",
    "plt.gca().yaxis.set_major_formatter(PercentFormatter(1))\n",
    "plt.xticks(fontsize=tick)\n",
    "plt.yticks(fontsize=tick)\n",
    "\n",
    "plt.subplot(1,2,1)\n",
    "plot2 = plt.bar([\"Positive-Positive\",\"Negative-Negative\",\"Positive-Negative\"],\n",
    "       (np.sum(uniqueConnection, axis = 0 )/np.sum(np.sum(uniqueConnection, axis = 0 ))))\n",
    "plt.title(\"Unweighted Contact\", fontsize = font)\n",
    "plt.ylabel(\"Percentage of Total Connections\", fontsize = font)\n",
    "plt.xlabel(\"Type of Connection\", fontsize = font)\n",
    "plt.bar_label(plot2,np.around(np.sum(uniqueConnection, axis = 0)*100/np.sum(np.sum(uniqueConnection, axis = 0)),2))\n",
    "plt.gca().yaxis.set_major_formatter(PercentFormatter(1))\n",
    "plt.tight_layout()\n",
    "plt.xticks(fontsize=tick)\n",
    "plt.yticks(fontsize=tick);\n",
    "\n",
    "plt.savefig(\"intraThread.png\")"
   ]
  },
  {
   "cell_type": "code",
   "execution_count": 16,
   "metadata": {},
   "outputs": [
    {
     "data": {
      "text/plain": [
       "67.43"
      ]
     },
     "execution_count": 16,
     "metadata": {},
     "output_type": "execute_result"
    }
   ],
   "source": [
    "47.74+19.69"
   ]
  },
  {
   "cell_type": "code",
   "execution_count": 17,
   "metadata": {},
   "outputs": [
    {
     "data": {
      "text/plain": [
       "72.03999999999999"
      ]
     },
     "execution_count": 17,
     "metadata": {},
     "output_type": "execute_result"
    }
   ],
   "source": [
    "48.23 + 23.81"
   ]
  },
  {
   "cell_type": "code",
   "execution_count": 9,
   "metadata": {},
   "outputs": [
    {
     "data": {
      "image/png": "[encoded data removed]",
      "text/plain": [
       "<Figure size 432x288 with 1 Axes>"
      ]
     },
     "metadata": {
      "needs_background": "light"
     },
     "output_type": "display_data"
    }
   ],
   "source": [
    "plt.hist(statistics[\"numPosterPosts\"]/statistics[\"numPosts\"], bins = 25)\n",
    "plt.title(\"Percentage of Posts Made by OP\");\n",
    "plt.gca().yaxis.set_major_formatter(PercentFormatter(xmax = len(statistics)))"
   ]
  },
  {
   "cell_type": "code",
   "execution_count": 10,
   "metadata": {},
   "outputs": [
    {
     "data": {
      "image/png": "[encoded data removed]",
      "text/plain": [
       "<Figure size 720x432 with 1 Axes>"
      ]
     },
     "metadata": {
      "needs_background": "light"
     },
     "output_type": "display_data"
    }
   ],
   "source": [
    "diff = statistics[\"posterSentiment\"]-statistics[\"meanSentiment\"]\n",
    "\n",
    "plt.figure(figsize = (10,6))\n",
    "plt.hist(diff, bins = 25)\n",
    "plt.gca().yaxis.set_major_formatter(PercentFormatter(xmax = len(diff)))\n",
    "plt.title(\"Difference Between Post Sentiment and Original Poster Sentiment\", fontsize = font)\n",
    "plt.xlabel(\"Difference in Sentiment\", fontsize = font)\n",
    "plt.ylabel(\"Percentage\", fontsize = font);\n",
    "plt.xticks(fontsize=tick)\n",
    "plt.yticks(fontsize=tick);\n",
    "plt.savefig(\"diffSentiment.png\")"
   ]
  },
  {
   "cell_type": "code",
   "execution_count": 11,
   "metadata": {},
   "outputs": [
    {
     "data": {
      "text/plain": [
       "0.0009825814944482958"
      ]
     },
     "execution_count": 11,
     "metadata": {},
     "output_type": "execute_result"
    }
   ],
   "source": [
    "np.mean(diff)"
   ]
  },
  {
   "cell_type": "code",
   "execution_count": 12,
   "metadata": {},
   "outputs": [
    {
     "data": {
      "text/plain": [
       "0.34440859265628165"
      ]
     },
     "execution_count": 12,
     "metadata": {},
     "output_type": "execute_result"
    }
   ],
   "source": [
    "np.std(diff)"
   ]
  },
  {
   "cell_type": "markdown",
   "metadata": {},
   "source": [
    "look at more centrality measures - information centrality, closeness centrality, game theory centrality  "
   ]
  },
  {
   "cell_type": "markdown",
   "metadata": {},
   "source": [
    "# Centrality "
   ]
  },
  {
   "cell_type": "code",
   "execution_count": 14,
   "metadata": {},
   "outputs": [],
   "source": [
    "centers = []\n",
    "\n",
    "for i in range(0,len(posterCentrality)):\n",
    "    centers.append(max(posterCentrality[i], key=posterCentrality[i].get)) \n",
    "centers = -1*np.array(centers)"
   ]
  },
  {
   "cell_type": "code",
   "execution_count": 15,
   "metadata": {},
   "outputs": [
    {
     "data": {
      "image/png": "[encoded data removed]",
      "text/plain": [
       "<Figure size 576x432 with 1 Axes>"
      ]
     },
     "metadata": {
      "needs_background": "light"
     },
     "output_type": "display_data"
    }
   ],
   "source": [
    "plt.figure(figsize = (8,6))\n",
    "y = plt.hist(np.array(centers),bins = 30,  align='left')\n",
    "plt.gca().yaxis.set_major_formatter(PercentFormatter(xmax = len(centers)))\n",
    "plt.xlabel(\"Number Poster\", fontsize = font)\n",
    "plt.ylabel(\"Percentage of Threads\", fontsize = font)\n",
    "plt.title(\"Distribution of Central Members\", fontsize = font)\n",
    "plt.axvline(x=1, c = \"orange\", label = \"Original Poster\")\n",
    "plt.xticks(fontsize=tick)\n",
    "plt.yticks(fontsize=tick);\n",
    "plt.legend()\n",
    "plt.savefig(\"intraCentrality.png\");"
   ]
  },
  {
   "cell_type": "code",
   "execution_count": null,
   "metadata": {},
   "outputs": [],
   "source": []
  }
 ],
 "metadata": {
  "kernelspec": {
   "display_name": "Python 3 (ipykernel)",
   "language": "python",
   "name": "python3"
  },
  "language_info": {
   "codemirror_mode": {
    "name": "ipython",
    "version": 3
   },
   "file_extension": ".py",
   "mimetype": "text/x-python",
   "name": "python",
   "nbconvert_exporter": "python",
   "pygments_lexer": "ipython3",
   "version": "3.9.7"
  }
 },
 "nbformat": 4,
 "nbformat_minor": 2
}
