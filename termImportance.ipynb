{
 "cells": [
  {
   "cell_type": "code",
   "execution_count": 1,
   "metadata": {},
   "outputs": [],
   "source": [
    "import numpy as np\n",
    "import matplotlib.pyplot as plt\n",
    "import networkx as nx\n",
    "import pandas as pd\n",
    "import nltk\n",
    "from nltk.corpus import stopwords\n",
    "import sage\n",
    "from collections import Counter\n",
    "import re\n",
    "from sklearn.feature_extraction.text import TfidfVectorizer"
   ]
  },
  {
   "cell_type": "markdown",
   "metadata": {},
   "source": [
    "# Clean Data"
   ]
  },
  {
   "cell_type": "code",
   "execution_count": 2,
   "metadata": {},
   "outputs": [],
   "source": [
    "def is_ascii(s):\n",
    "    return all(ord(c) < 128 for c in s)\n",
    "\n",
    "def cleanData(messages):\n",
    "    for i in range(0,len(messages)):\n",
    "        try:\n",
    "            filtered = re.sub(r'[\\(, \\)]', ' ', messages.iloc[i])\n",
    "            filtered = re.sub(r'[\\!]', '', filtered)\n",
    "            filtered = re.sub(r'[^\\w\\s\\!]', '', filtered)\n",
    "            messages.iloc[i] = filtered\n",
    "        except:\n",
    "            messages.iloc[i] = \"\"\n",
    "        \n",
    "        if is_ascii(messages.iloc[i]) == False:\n",
    "             messages.iloc[i] = \"\"\n",
    "\n",
    "    return messages"
   ]
  },
  {
   "cell_type": "markdown",
   "metadata": {},
   "source": [
    "# Word Importance"
   ]
  },
  {
   "cell_type": "code",
   "execution_count": 3,
   "metadata": {},
   "outputs": [],
   "source": [
    "def wordImportance(messages):\n",
    "    remove = set(stopwords.words('english'))\n",
    "    tfIdfVectorizer=TfidfVectorizer(use_idf=True, stop_words = remove)\n",
    "    tfIdf = tfIdfVectorizer.fit_transform(messages)\n",
    "    df = pd.DataFrame(tfIdf[0].T.todense(), index=tfIdfVectorizer.get_feature_names(), columns=[\"TF-IDF\"])\n",
    "    df = df.sort_values('TF-IDF', ascending=False)\n",
    "    return df"
   ]
  },
  {
   "cell_type": "markdown",
   "metadata": {},
   "source": [
    "# Single Thread Analysis"
   ]
  },
  {
   "cell_type": "code",
   "execution_count": 4,
   "metadata": {},
   "outputs": [],
   "source": [
    "#Load Data\n",
    "data = pd.read_csv(\"Ansar1Clean.csv\", index_col=0)"
   ]
  },
  {
   "cell_type": "code",
   "execution_count": 6,
   "metadata": {},
   "outputs": [
    {
     "data": {
      "text/html": [
       "<div>\n",
       "<style scoped>\n",
       "    .dataframe tbody tr th:only-of-type {\n",
       "        vertical-align: middle;\n",
       "    }\n",
       "\n",
       "    .dataframe tbody tr th {\n",
       "        vertical-align: top;\n",
       "    }\n",
       "\n",
       "    .dataframe thead th {\n",
       "        text-align: right;\n",
       "    }\n",
       "</style>\n",
       "<table border=\"1\" class=\"dataframe\">\n",
       "  <thead>\n",
       "    <tr style=\"text-align: right;\">\n",
       "      <th></th>\n",
       "      <th>TF-IDF</th>\n",
       "    </tr>\n",
       "  </thead>\n",
       "  <tbody>\n",
       "    <tr>\n",
       "      <th>042209</th>\n",
       "      <td>0.357461</td>\n",
       "    </tr>\n",
       "    <tr>\n",
       "      <th>spencer</th>\n",
       "      <td>0.331783</td>\n",
       "    </tr>\n",
       "    <tr>\n",
       "      <th>marine</th>\n",
       "      <td>0.179923</td>\n",
       "    </tr>\n",
       "    <tr>\n",
       "      <th>chest</th>\n",
       "      <td>0.178731</td>\n",
       "    </tr>\n",
       "    <tr>\n",
       "      <th>iraqmaking</th>\n",
       "      <td>0.178731</td>\n",
       "    </tr>\n",
       "    <tr>\n",
       "      <th>honoluluadvertiser</th>\n",
       "      <td>0.178731</td>\n",
       "    </tr>\n",
       "    <tr>\n",
       "      <th>fifth</th>\n",
       "      <td>0.178731</td>\n",
       "    </tr>\n",
       "    <tr>\n",
       "      <th>death</th>\n",
       "      <td>0.166177</td>\n",
       "    </tr>\n",
       "    <tr>\n",
       "      <th>ray</th>\n",
       "      <td>0.165892</td>\n",
       "    </tr>\n",
       "    <tr>\n",
       "      <th>noncombatrelated</th>\n",
       "      <td>0.156782</td>\n",
       "    </tr>\n",
       "    <tr>\n",
       "      <th>combat</th>\n",
       "      <td>0.156194</td>\n",
       "    </tr>\n",
       "    <tr>\n",
       "      <th>hawaii</th>\n",
       "      <td>0.149716</td>\n",
       "    </tr>\n",
       "    <tr>\n",
       "      <th>assistant</th>\n",
       "      <td>0.149716</td>\n",
       "    </tr>\n",
       "    <tr>\n",
       "      <th>releases</th>\n",
       "      <td>0.149716</td>\n",
       "    </tr>\n",
       "    <tr>\n",
       "      <th>secretary</th>\n",
       "      <td>0.143943</td>\n",
       "    </tr>\n",
       "    <tr>\n",
       "      <th>gunshot</th>\n",
       "      <td>0.143943</td>\n",
       "    </tr>\n",
       "    <tr>\n",
       "      <th>february</th>\n",
       "      <td>0.139062</td>\n",
       "    </tr>\n",
       "    <tr>\n",
       "      <th>anbar</th>\n",
       "      <td>0.131104</td>\n",
       "    </tr>\n",
       "    <tr>\n",
       "      <th>office</th>\n",
       "      <td>0.127767</td>\n",
       "    </tr>\n",
       "    <tr>\n",
       "      <th>early</th>\n",
       "      <td>0.127767</td>\n",
       "    </tr>\n",
       "    <tr>\n",
       "      <th>mndb</th>\n",
       "      <td>0.124749</td>\n",
       "    </tr>\n",
       "    <tr>\n",
       "      <th>conducting</th>\n",
       "      <td>0.121994</td>\n",
       "    </tr>\n",
       "    <tr>\n",
       "      <th>ii</th>\n",
       "      <td>0.119460</td>\n",
       "    </tr>\n",
       "    <tr>\n",
       "      <th>divisionbaghdad</th>\n",
       "      <td>0.119460</td>\n",
       "    </tr>\n",
       "    <tr>\n",
       "      <th>least</th>\n",
       "      <td>0.119460</td>\n",
       "    </tr>\n",
       "  </tbody>\n",
       "</table>\n",
       "</div>"
      ],
      "text/plain": [
       "                      TF-IDF\n",
       "042209              0.357461\n",
       "spencer             0.331783\n",
       "marine              0.179923\n",
       "chest               0.178731\n",
       "iraqmaking          0.178731\n",
       "honoluluadvertiser  0.178731\n",
       "fifth               0.178731\n",
       "death               0.166177\n",
       "ray                 0.165892\n",
       "noncombatrelated    0.156782\n",
       "combat              0.156194\n",
       "hawaii              0.149716\n",
       "assistant           0.149716\n",
       "releases            0.149716\n",
       "secretary           0.143943\n",
       "gunshot             0.143943\n",
       "february            0.139062\n",
       "anbar               0.131104\n",
       "office              0.127767\n",
       "early               0.127767\n",
       "mndb                0.124749\n",
       "conducting          0.121994\n",
       "ii                  0.119460\n",
       "divisionbaghdad     0.119460\n",
       "least               0.119460"
      ]
     },
     "execution_count": 6,
     "metadata": {},
     "output_type": "execute_result"
    }
   ],
   "source": [
    "#Get thread\n",
    "threads = data[\"ThreadID\"].unique()\n",
    "thread = data[data[\"ThreadID\"]== threads[0]]\n",
    "thread = thread.reset_index(drop = True)\n",
    "\n",
    "#get all messages\n",
    "messages = thread[\"Message\"].copy()\n",
    "\n",
    "#clean data\n",
    "clean = cleanData(messages)\n",
    "\n",
    "#get word importance\n",
    "importance = wordImportance(clean)\n",
    "importance.head(25)"
   ]
  },
  {
   "cell_type": "markdown",
   "metadata": {},
   "source": [
    "# Full Data Set Analysis"
   ]
  },
  {
   "cell_type": "code",
   "execution_count": null,
   "metadata": {},
   "outputs": [],
   "source": [
    "allMessages = data[\"Message\"].copy()\n",
    "\n",
    "#clean data\n",
    "clean = cleanData(allMessages)\n",
    "\n",
    "#get word importance\n",
    "importance = wordImportance(clean)\n",
    "importance.head(25)"
   ]
  },
  {
   "cell_type": "code",
   "execution_count": null,
   "metadata": {},
   "outputs": [],
   "source": []
  }
 ],
 "metadata": {
  "kernelspec": {
   "display_name": "Python 3 (ipykernel)",
   "language": "python",
   "name": "python3"
  },
  "language_info": {
   "codemirror_mode": {
    "name": "ipython",
    "version": 3
   },
   "file_extension": ".py",
   "mimetype": "text/x-python",
   "name": "python",
   "nbconvert_exporter": "python",
   "pygments_lexer": "ipython3",
   "version": "3.9.7"
  }
 },
 "nbformat": 4,
 "nbformat_minor": 2
}
