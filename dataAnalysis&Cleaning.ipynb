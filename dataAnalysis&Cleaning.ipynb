{
 "cells": [
  {
   "cell_type": "code",
   "execution_count": 1,
   "metadata": {},
   "outputs": [],
   "source": [
    "import numpy as np\n",
    "import pandas as pd\n",
    "import matplotlib.pyplot as plt"
   ]
  },
  {
   "cell_type": "code",
   "execution_count": 2,
   "metadata": {},
   "outputs": [],
   "source": [
    "def processData(path):\n",
    "    with open(path) as file:\n",
    "        lines = file.readlines()\n",
    "        lines = [line.rstrip() for line in lines]\n",
    "\n",
    "    cols = lines[0].split(\"\\t\")\n",
    "    data = lines[2:]\n",
    "    \n",
    "    frame = []\n",
    "    for i in data:\n",
    "        row = i.split(\"\\t\")\n",
    "        if len(row) > 11:\n",
    "            pass\n",
    "        else:\n",
    "            frame.append(row)\n",
    "    messages = pd.DataFrame(frame, columns = cols)\n",
    "    \n",
    "    return messages"
   ]
  },
  {
   "cell_type": "code",
   "execution_count": 3,
   "metadata": {},
   "outputs": [],
   "source": [
    "path = \"../Data/Gawaher/Gawaher.txt\"\n",
    "\n",
    "messages = processData(path)"
   ]
  },
  {
   "cell_type": "markdown",
   "metadata": {},
   "source": [
    "# Analysis"
   ]
  },
  {
   "cell_type": "code",
   "execution_count": 4,
   "metadata": {},
   "outputs": [
    {
     "data": {
      "text/html": [
       "<div>\n",
       "<style scoped>\n",
       "    .dataframe tbody tr th:only-of-type {\n",
       "        vertical-align: middle;\n",
       "    }\n",
       "\n",
       "    .dataframe tbody tr th {\n",
       "        vertical-align: top;\n",
       "    }\n",
       "\n",
       "    .dataframe thead th {\n",
       "        text-align: right;\n",
       "    }\n",
       "</style>\n",
       "<table border=\"1\" class=\"dataframe\">\n",
       "  <thead>\n",
       "    <tr style=\"text-align: right;\">\n",
       "      <th></th>\n",
       "      <th>﻿MessageID</th>\n",
       "      <th>ThreadID</th>\n",
       "      <th>ThreadName</th>\n",
       "      <th>MemberID</th>\n",
       "      <th>MemberName</th>\n",
       "      <th>Message</th>\n",
       "      <th>P_Year</th>\n",
       "      <th>P_Month</th>\n",
       "      <th>P_Day</th>\n",
       "      <th>P_Date</th>\n",
       "      <th>ThreadFirstMessageID</th>\n",
       "    </tr>\n",
       "  </thead>\n",
       "  <tbody>\n",
       "    <tr>\n",
       "      <th>0</th>\n",
       "      <td>100</td>\n",
       "      <td>37</td>\n",
       "      <td>Speaking Without Knowledge</td>\n",
       "      <td>Arwa</td>\n",
       "      <td>Arwa</td>\n",
       "      <td>Speaking Without Knowledge -------------------...</td>\n",
       "      <td>2004</td>\n",
       "      <td>10</td>\n",
       "      <td>25</td>\n",
       "      <td>2004-10-25 01:01:00.000</td>\n",
       "      <td>100</td>\n",
       "    </tr>\n",
       "    <tr>\n",
       "      <th>1</th>\n",
       "      <td>1000</td>\n",
       "      <td>240</td>\n",
       "      <td>Music in Islam</td>\n",
       "      <td>Moustafa</td>\n",
       "      <td>Moustafa</td>\n",
       "      <td>&lt;quote&gt;Quote Assalaamualaikum, Regardless of w...</td>\n",
       "      <td>2004</td>\n",
       "      <td>10</td>\n",
       "      <td>25</td>\n",
       "      <td>2004-10-25 18:22:00.000</td>\n",
       "      <td>806</td>\n",
       "    </tr>\n",
       "    <tr>\n",
       "      <th>2</th>\n",
       "      <td>10000</td>\n",
       "      <td>200</td>\n",
       "      <td>Start From Scratch</td>\n",
       "      <td>Keeping Faith</td>\n",
       "      <td>Keeping Faith</td>\n",
       "      <td>Insha'Allah. :w:</td>\n",
       "      <td>2004</td>\n",
       "      <td>11</td>\n",
       "      <td>03</td>\n",
       "      <td>2004-11-03 11:14:00.000</td>\n",
       "      <td>596</td>\n",
       "    </tr>\n",
       "    <tr>\n",
       "      <th>3</th>\n",
       "      <td>100001</td>\n",
       "      <td>10742</td>\n",
       "      <td>To Be A Mother</td>\n",
       "      <td>ahm</td>\n",
       "      <td>ahm</td>\n",
       "      <td>I like that bit when youcall \"Mum\" she drops e...</td>\n",
       "      <td>2005</td>\n",
       "      <td>03</td>\n",
       "      <td>26</td>\n",
       "      <td>2005-03-26 07:43:00.000</td>\n",
       "      <td>99884</td>\n",
       "    </tr>\n",
       "    <tr>\n",
       "      <th>4</th>\n",
       "      <td>100002</td>\n",
       "      <td>10703</td>\n",
       "      <td>Which Prophet Is The Verse...</td>\n",
       "      <td>Jawharah</td>\n",
       "      <td>Jawharah</td>\n",
       "      <td>Pretty sure I got this right. Good question si...</td>\n",
       "      <td>2005</td>\n",
       "      <td>03</td>\n",
       "      <td>26</td>\n",
       "      <td>2005-03-26 08:04:00.000</td>\n",
       "      <td>99483</td>\n",
       "    </tr>\n",
       "  </tbody>\n",
       "</table>\n",
       "</div>"
      ],
      "text/plain": [
       "  ﻿MessageID ThreadID                     ThreadName       MemberID  \\\n",
       "0        100       37     Speaking Without Knowledge           Arwa   \n",
       "1       1000      240                 Music in Islam       Moustafa   \n",
       "2      10000      200             Start From Scratch  Keeping Faith   \n",
       "3     100001    10742                 To Be A Mother            ahm   \n",
       "4     100002    10703  Which Prophet Is The Verse...       Jawharah   \n",
       "\n",
       "      MemberName                                            Message P_Year  \\\n",
       "0           Arwa  Speaking Without Knowledge -------------------...   2004   \n",
       "1       Moustafa  <quote>Quote Assalaamualaikum, Regardless of w...   2004   \n",
       "2  Keeping Faith                                   Insha'Allah. :w:   2004   \n",
       "3            ahm  I like that bit when youcall \"Mum\" she drops e...   2005   \n",
       "4       Jawharah  Pretty sure I got this right. Good question si...   2005   \n",
       "\n",
       "  P_Month P_Day                   P_Date ThreadFirstMessageID  \n",
       "0      10    25  2004-10-25 01:01:00.000                  100  \n",
       "1      10    25  2004-10-25 18:22:00.000                  806  \n",
       "2      11    03  2004-11-03 11:14:00.000                  596  \n",
       "3      03    26  2005-03-26 07:43:00.000                99884  \n",
       "4      03    26  2005-03-26 08:04:00.000                99483  "
      ]
     },
     "execution_count": 4,
     "metadata": {},
     "output_type": "execute_result"
    }
   ],
   "source": [
    "messages.head()"
   ]
  },
  {
   "cell_type": "code",
   "execution_count": 5,
   "metadata": {},
   "outputs": [],
   "source": [
    "threads = messages[\"ThreadID\"].unique()"
   ]
  },
  {
   "cell_type": "code",
   "execution_count": 7,
   "metadata": {},
   "outputs": [],
   "source": [
    "threadLengths = []\n",
    "\n",
    "for i in threads:\n",
    "    threadLengths.append(messages[messages[\"ThreadID\"] == i].shape[0])"
   ]
  },
  {
   "cell_type": "code",
   "execution_count": 42,
   "metadata": {},
   "outputs": [
    {
     "name": "stdout",
     "output_type": "stream",
     "text": [
      "6.997332531840553\n",
      "2.0\n"
     ]
    },
    {
     "data": {
      "image/png": "[encoded data removed]",
      "text/plain": [
       "<Figure size 576x360 with 1 Axes>"
      ]
     },
     "metadata": {
      "needs_background": "light"
     },
     "output_type": "display_data"
    }
   ],
   "source": [
    "plt.figure(figsize = (8,5))\n",
    "plt.hist(threadLengths, bins = 25)\n",
    "plt.yscale(\"log\")\n",
    "plt.ylabel(\"Log Count\", fontsize = 14)\n",
    "plt.xlabel(\"Number of Comments\", fontsize = 14)\n",
    "plt.title(\"Distribution of Comment Thread Lengths\", fontsize = 14)\n",
    "plt.xticks(fontsize = 14)\n",
    "plt.yticks(fontsize = 14)\n",
    "plt.savefig(\"Images/ThreadLengths.png\")\n",
    "\n",
    "\n",
    "print(np.mean(threadLengths))\n",
    "print(np.median(threadLengths))"
   ]
  },
  {
   "cell_type": "code",
   "execution_count": 48,
   "metadata": {},
   "outputs": [
    {
     "data": {
      "text/plain": [
       "1982"
      ]
     },
     "execution_count": 48,
     "metadata": {},
     "output_type": "execute_result"
    }
   ],
   "source": [
    "sum(np.array(threadLengths) > 30)"
   ]
  },
  {
   "cell_type": "code",
   "execution_count": 9,
   "metadata": {},
   "outputs": [],
   "source": [
    "#Only want threads with length > 1\n",
    "replies = messages[messages.duplicated(subset=['ThreadID'], keep=False)]"
   ]
  },
  {
   "cell_type": "code",
   "execution_count": 26,
   "metadata": {},
   "outputs": [
    {
     "data": {
      "text/plain": [
       "351956"
      ]
     },
     "execution_count": 26,
     "metadata": {},
     "output_type": "execute_result"
    }
   ],
   "source": [
    "len(replies)"
   ]
  },
  {
   "cell_type": "code",
   "execution_count": 10,
   "metadata": {},
   "outputs": [],
   "source": [
    "replyLengths = []\n",
    "replyThreads = replies[\"ThreadID\"].unique()\n",
    "for i in threads:\n",
    "    replyLengths.append(len(replies[replies[\"ThreadID\"] == i]))\n",
    "\n"
   ]
  },
  {
   "cell_type": "code",
   "execution_count": 11,
   "metadata": {},
   "outputs": [
    {
     "name": "stdout",
     "output_type": "stream",
     "text": [
      "10.765155686058604\n",
      "5.0\n"
     ]
    },
    {
     "data": {
      "image/png": "[encoded data removed]",
      "text/plain": [
       "<Figure size 432x288 with 1 Axes>"
      ]
     },
     "metadata": {
      "needs_background": "light"
     },
     "output_type": "display_data"
    }
   ],
   "source": [
    "replyLengths = np.array(replyLengths)\n",
    "replyLengths = replyLengths[replyLengths > 0]\n",
    "plt.hist(replyLengths)\n",
    "plt.yscale(\"log\")\n",
    "\n",
    "print(np.mean(replyLengths))\n",
    "print(np.median(replyLengths))"
   ]
  },
  {
   "cell_type": "code",
   "execution_count": 12,
   "metadata": {},
   "outputs": [
    {
     "data": {
      "text/html": [
       "<div>\n",
       "<style scoped>\n",
       "    .dataframe tbody tr th:only-of-type {\n",
       "        vertical-align: middle;\n",
       "    }\n",
       "\n",
       "    .dataframe tbody tr th {\n",
       "        vertical-align: top;\n",
       "    }\n",
       "\n",
       "    .dataframe thead th {\n",
       "        text-align: right;\n",
       "    }\n",
       "</style>\n",
       "<table border=\"1\" class=\"dataframe\">\n",
       "  <thead>\n",
       "    <tr style=\"text-align: right;\">\n",
       "      <th></th>\n",
       "      <th>﻿MessageID</th>\n",
       "      <th>ThreadID</th>\n",
       "      <th>ThreadName</th>\n",
       "      <th>MemberID</th>\n",
       "      <th>MemberName</th>\n",
       "      <th>Message</th>\n",
       "      <th>P_Year</th>\n",
       "      <th>P_Month</th>\n",
       "      <th>P_Day</th>\n",
       "      <th>P_Date</th>\n",
       "      <th>ThreadFirstMessageID</th>\n",
       "    </tr>\n",
       "  </thead>\n",
       "  <tbody>\n",
       "    <tr>\n",
       "      <th>0</th>\n",
       "      <td>100</td>\n",
       "      <td>37</td>\n",
       "      <td>Speaking Without Knowledge</td>\n",
       "      <td>Arwa</td>\n",
       "      <td>Arwa</td>\n",
       "      <td>Speaking Without Knowledge -------------------...</td>\n",
       "      <td>2004</td>\n",
       "      <td>10</td>\n",
       "      <td>25</td>\n",
       "      <td>2004-10-25 01:01:00.000</td>\n",
       "      <td>100</td>\n",
       "    </tr>\n",
       "    <tr>\n",
       "      <th>1</th>\n",
       "      <td>1000</td>\n",
       "      <td>240</td>\n",
       "      <td>Music in Islam</td>\n",
       "      <td>Moustafa</td>\n",
       "      <td>Moustafa</td>\n",
       "      <td>&lt;quote&gt;Quote Assalaamualaikum, Regardless of w...</td>\n",
       "      <td>2004</td>\n",
       "      <td>10</td>\n",
       "      <td>25</td>\n",
       "      <td>2004-10-25 18:22:00.000</td>\n",
       "      <td>806</td>\n",
       "    </tr>\n",
       "    <tr>\n",
       "      <th>2</th>\n",
       "      <td>10000</td>\n",
       "      <td>200</td>\n",
       "      <td>Start From Scratch</td>\n",
       "      <td>Keeping Faith</td>\n",
       "      <td>Keeping Faith</td>\n",
       "      <td>Insha'Allah. :w:</td>\n",
       "      <td>2004</td>\n",
       "      <td>11</td>\n",
       "      <td>03</td>\n",
       "      <td>2004-11-03 11:14:00.000</td>\n",
       "      <td>596</td>\n",
       "    </tr>\n",
       "    <tr>\n",
       "      <th>3</th>\n",
       "      <td>100001</td>\n",
       "      <td>10742</td>\n",
       "      <td>To Be A Mother</td>\n",
       "      <td>ahm</td>\n",
       "      <td>ahm</td>\n",
       "      <td>I like that bit when youcall \"Mum\" she drops e...</td>\n",
       "      <td>2005</td>\n",
       "      <td>03</td>\n",
       "      <td>26</td>\n",
       "      <td>2005-03-26 07:43:00.000</td>\n",
       "      <td>99884</td>\n",
       "    </tr>\n",
       "    <tr>\n",
       "      <th>4</th>\n",
       "      <td>100002</td>\n",
       "      <td>10703</td>\n",
       "      <td>Which Prophet Is The Verse...</td>\n",
       "      <td>Jawharah</td>\n",
       "      <td>Jawharah</td>\n",
       "      <td>Pretty sure I got this right. Good question si...</td>\n",
       "      <td>2005</td>\n",
       "      <td>03</td>\n",
       "      <td>26</td>\n",
       "      <td>2005-03-26 08:04:00.000</td>\n",
       "      <td>99483</td>\n",
       "    </tr>\n",
       "  </tbody>\n",
       "</table>\n",
       "</div>"
      ],
      "text/plain": [
       "  ﻿MessageID ThreadID                     ThreadName       MemberID  \\\n",
       "0        100       37     Speaking Without Knowledge           Arwa   \n",
       "1       1000      240                 Music in Islam       Moustafa   \n",
       "2      10000      200             Start From Scratch  Keeping Faith   \n",
       "3     100001    10742                 To Be A Mother            ahm   \n",
       "4     100002    10703  Which Prophet Is The Verse...       Jawharah   \n",
       "\n",
       "      MemberName                                            Message P_Year  \\\n",
       "0           Arwa  Speaking Without Knowledge -------------------...   2004   \n",
       "1       Moustafa  <quote>Quote Assalaamualaikum, Regardless of w...   2004   \n",
       "2  Keeping Faith                                   Insha'Allah. :w:   2004   \n",
       "3            ahm  I like that bit when youcall \"Mum\" she drops e...   2005   \n",
       "4       Jawharah  Pretty sure I got this right. Good question si...   2005   \n",
       "\n",
       "  P_Month P_Day                   P_Date ThreadFirstMessageID  \n",
       "0      10    25  2004-10-25 01:01:00.000                  100  \n",
       "1      10    25  2004-10-25 18:22:00.000                  806  \n",
       "2      11    03  2004-11-03 11:14:00.000                  596  \n",
       "3      03    26  2005-03-26 07:43:00.000                99884  \n",
       "4      03    26  2005-03-26 08:04:00.000                99483  "
      ]
     },
     "execution_count": 12,
     "metadata": {},
     "output_type": "execute_result"
    }
   ],
   "source": [
    "replies.head()"
   ]
  },
  {
   "cell_type": "code",
   "execution_count": 13,
   "metadata": {},
   "outputs": [],
   "source": [
    "members = replies[\"MemberID\"].unique()"
   ]
  },
  {
   "cell_type": "code",
   "execution_count": 14,
   "metadata": {},
   "outputs": [],
   "source": [
    "connections = []\n",
    "for i in members:\n",
    "    length = len(replies[\"ThreadID\"][replies[\"MemberID\"] == i])\n",
    "    connections.append(length)\n",
    "    "
   ]
  },
  {
   "cell_type": "code",
   "execution_count": 15,
   "metadata": {},
   "outputs": [
    {
     "name": "stdout",
     "output_type": "stream",
     "text": [
      "43.40848544647262\n",
      "2.0\n",
      "1\n"
     ]
    },
    {
     "data": {
      "image/png": "[encoded data removed]",
      "text/plain": [
       "<Figure size 432x288 with 1 Axes>"
      ]
     },
     "metadata": {
      "needs_background": "light"
     },
     "output_type": "display_data"
    }
   ],
   "source": [
    "plt.hist(connections)\n",
    "plt.yscale(\"log\")\n",
    "print(np.mean(connections))\n",
    "print(np.median(connections))\n",
    "print(np.min(connections))"
   ]
  },
  {
   "cell_type": "markdown",
   "metadata": {},
   "source": [
    "# Data Cleaning"
   ]
  },
  {
   "cell_type": "code",
   "execution_count": 45,
   "metadata": {},
   "outputs": [],
   "source": [
    "#Only want threads with connecting members\n",
    "replies = messages[messages.duplicated(subset=['ThreadID'], keep=False)]\n",
    "connected = replies[replies.duplicated(subset=['MemberID'], keep=False)]"
   ]
  },
  {
   "cell_type": "code",
   "execution_count": 46,
   "metadata": {},
   "outputs": [],
   "source": [
    "threads = connected[\"ThreadID\"].unique()"
   ]
  },
  {
   "cell_type": "code",
   "execution_count": 47,
   "metadata": {},
   "outputs": [],
   "source": [
    "lengths = connected[\"ThreadID\"].value_counts()[threads]"
   ]
  },
  {
   "cell_type": "code",
   "execution_count": 48,
   "metadata": {},
   "outputs": [
    {
     "data": {
      "text/plain": [
       "11818"
      ]
     },
     "execution_count": 48,
     "metadata": {},
     "output_type": "execute_result"
    }
   ],
   "source": [
    "largeThreads = threads[np.array(lengths) > 30]\n",
    "len(largeThreads)"
   ]
  },
  {
   "cell_type": "code",
   "execution_count": 49,
   "metadata": {},
   "outputs": [],
   "source": [
    "cleanConnected = connected[connected[\"ThreadID\"].isin(largeThreads)]"
   ]
  },
  {
   "cell_type": "code",
   "execution_count": 50,
   "metadata": {},
   "outputs": [],
   "source": [
    "cleanConnected.to_csv(\"Ummah.csv\")"
   ]
  },
  {
   "cell_type": "code",
   "execution_count": null,
   "metadata": {},
   "outputs": [],
   "source": []
  }
 ],
 "metadata": {
  "kernelspec": {
   "display_name": "Python 3 (ipykernel)",
   "language": "python",
   "name": "python3"
  },
  "language_info": {
   "codemirror_mode": {
    "name": "ipython",
    "version": 3
   },
   "file_extension": ".py",
   "mimetype": "text/x-python",
   "name": "python",
   "nbconvert_exporter": "python",
   "pygments_lexer": "ipython3",
   "version": "3.9.7"
  }
 },
 "nbformat": 4,
 "nbformat_minor": 2
}
